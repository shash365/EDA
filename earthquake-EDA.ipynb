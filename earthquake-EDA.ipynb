{
 "cells": [
  {
   "cell_type": "code",
   "execution_count": 1,
   "metadata": {},
   "outputs": [],
   "source": [
    "import numpy as np\n",
    "import pandas as pd\n",
    "import matplotlib.pyplot as plt\n",
    "%matplotlib inline"
   ]
  },
  {
   "cell_type": "code",
   "execution_count": 4,
   "metadata": {},
   "outputs": [],
   "source": [
    "data = pd.read_csv('NCS-India1.csv')"
   ]
  },
  {
   "cell_type": "code",
   "execution_count": 5,
   "metadata": {},
   "outputs": [
    {
     "data": {
      "text/html": [
       "<div>\n",
       "<style scoped>\n",
       "    .dataframe tbody tr th:only-of-type {\n",
       "        vertical-align: middle;\n",
       "    }\n",
       "\n",
       "    .dataframe tbody tr th {\n",
       "        vertical-align: top;\n",
       "    }\n",
       "\n",
       "    .dataframe thead th {\n",
       "        text-align: right;\n",
       "    }\n",
       "</style>\n",
       "<table border=\"1\" class=\"dataframe\">\n",
       "  <thead>\n",
       "    <tr style=\"text-align: right;\">\n",
       "      <th></th>\n",
       "      <th>Origin Time</th>\n",
       "      <th>Lat</th>\n",
       "      <th>Long</th>\n",
       "      <th>Depth</th>\n",
       "      <th>Magnitude</th>\n",
       "      <th>Location</th>\n",
       "    </tr>\n",
       "  </thead>\n",
       "  <tbody>\n",
       "    <tr>\n",
       "      <th>0</th>\n",
       "      <td>2007-01-23 19:03:47 IST</td>\n",
       "      <td>35.50</td>\n",
       "      <td>73.37</td>\n",
       "      <td>33</td>\n",
       "      <td>3.7[ML]</td>\n",
       "      <td>185km NNW of Gulmarg, Jammu and Kashmir, India</td>\n",
       "    </tr>\n",
       "    <tr>\n",
       "      <th>1</th>\n",
       "      <td>2007-01-23 19:16:16 IST</td>\n",
       "      <td>38.40</td>\n",
       "      <td>72.72</td>\n",
       "      <td>96</td>\n",
       "      <td>4.1[ML]</td>\n",
       "      <td>342km E of Dushanbe, Tajikistan</td>\n",
       "    </tr>\n",
       "    <tr>\n",
       "      <th>2</th>\n",
       "      <td>2007-01-24 10:35:34 IST</td>\n",
       "      <td>22.82</td>\n",
       "      <td>68.97</td>\n",
       "      <td>14</td>\n",
       "      <td>2.9[ML]</td>\n",
       "      <td>64km N of Dwarka, Gujarat, India</td>\n",
       "    </tr>\n",
       "    <tr>\n",
       "      <th>3</th>\n",
       "      <td>2007-01-24 15:59:24 IST</td>\n",
       "      <td>25.95</td>\n",
       "      <td>90.27</td>\n",
       "      <td>15</td>\n",
       "      <td>4.0[ML]</td>\n",
       "      <td>48km N of Tura, Meghalaya, India</td>\n",
       "    </tr>\n",
       "    <tr>\n",
       "      <th>4</th>\n",
       "      <td>2007-01-24 16:33:31 IST</td>\n",
       "      <td>24.97</td>\n",
       "      <td>94.28</td>\n",
       "      <td>38</td>\n",
       "      <td>4.7[MB]</td>\n",
       "      <td>20km W of Ukhrul, Manipur, India</td>\n",
       "    </tr>\n",
       "  </tbody>\n",
       "</table>\n",
       "</div>"
      ],
      "text/plain": [
       "               Origin Time    Lat   Long  Depth Magnitude  \\\n",
       "0  2007-01-23 19:03:47 IST  35.50  73.37     33   3.7[ML]   \n",
       "1  2007-01-23 19:16:16 IST  38.40  72.72     96   4.1[ML]   \n",
       "2  2007-01-24 10:35:34 IST  22.82  68.97     14   2.9[ML]   \n",
       "3  2007-01-24 15:59:24 IST  25.95  90.27     15   4.0[ML]   \n",
       "4  2007-01-24 16:33:31 IST  24.97  94.28     38   4.7[MB]   \n",
       "\n",
       "                                         Location  \n",
       "0  185km NNW of Gulmarg, Jammu and Kashmir, India  \n",
       "1                 342km E of Dushanbe, Tajikistan  \n",
       "2                64km N of Dwarka, Gujarat, India  \n",
       "3                48km N of Tura, Meghalaya, India  \n",
       "4                20km W of Ukhrul, Manipur, India  "
      ]
     },
     "execution_count": 5,
     "metadata": {},
     "output_type": "execute_result"
    }
   ],
   "source": [
    "data.head()"
   ]
  },
  {
   "cell_type": "code",
   "execution_count": 8,
   "metadata": {},
   "outputs": [
    {
     "name": "stdout",
     "output_type": "stream",
     "text": [
      "<class 'pandas.core.frame.DataFrame'>\n",
      "RangeIndex: 10000 entries, 0 to 9999\n",
      "Data columns (total 6 columns):\n",
      " #   Column       Non-Null Count  Dtype  \n",
      "---  ------       --------------  -----  \n",
      " 0   Origin Time  10000 non-null  object \n",
      " 1   Lat          10000 non-null  float64\n",
      " 2   Long         10000 non-null  float64\n",
      " 3   Depth        10000 non-null  int64  \n",
      " 4   Magnitude    10000 non-null  object \n",
      " 5   Location     10000 non-null  object \n",
      "dtypes: float64(2), int64(1), object(3)\n",
      "memory usage: 468.9+ KB\n"
     ]
    }
   ],
   "source": [
    "data.info()"
   ]
  },
  {
   "cell_type": "code",
   "execution_count": 63,
   "metadata": {},
   "outputs": [],
   "source": [
    "data_hi = data[data.Magnitude.str.contains('MB')]\n",
    "data_lo = data[data.Magnitude.str.contains('MC|ML')]"
   ]
  },
  {
   "cell_type": "code",
   "execution_count": 26,
   "metadata": {},
   "outputs": [
    {
     "data": {
      "text/html": [
       "<div>\n",
       "<style scoped>\n",
       "    .dataframe tbody tr th:only-of-type {\n",
       "        vertical-align: middle;\n",
       "    }\n",
       "\n",
       "    .dataframe tbody tr th {\n",
       "        vertical-align: top;\n",
       "    }\n",
       "\n",
       "    .dataframe thead th {\n",
       "        text-align: right;\n",
       "    }\n",
       "</style>\n",
       "<table border=\"1\" class=\"dataframe\">\n",
       "  <thead>\n",
       "    <tr style=\"text-align: right;\">\n",
       "      <th></th>\n",
       "      <th>Origin Time</th>\n",
       "      <th>Lat</th>\n",
       "      <th>Long</th>\n",
       "      <th>Depth</th>\n",
       "      <th>Magnitude</th>\n",
       "      <th>Location</th>\n",
       "    </tr>\n",
       "  </thead>\n",
       "  <tbody>\n",
       "    <tr>\n",
       "      <th>4</th>\n",
       "      <td>2007-01-24 16:33:31 IST</td>\n",
       "      <td>24.97</td>\n",
       "      <td>94.28</td>\n",
       "      <td>38</td>\n",
       "      <td>4.7[MB]</td>\n",
       "      <td>20km W of Ukhrul, Manipur, India</td>\n",
       "    </tr>\n",
       "    <tr>\n",
       "      <th>7</th>\n",
       "      <td>2007-01-25 20:48:38 IST</td>\n",
       "      <td>2.11</td>\n",
       "      <td>97.15</td>\n",
       "      <td>30</td>\n",
       "      <td>5.1[MB]</td>\n",
       "      <td>516km WSW of Kuala Lumpur, Malaysia</td>\n",
       "    </tr>\n",
       "    <tr>\n",
       "      <th>11</th>\n",
       "      <td>2007-01-28 05:48:52 IST</td>\n",
       "      <td>7.90</td>\n",
       "      <td>88.44</td>\n",
       "      <td>10</td>\n",
       "      <td>4.7[MB]</td>\n",
       "      <td>610km W of Campbell Bay, Andaman and Nicobar i...</td>\n",
       "    </tr>\n",
       "    <tr>\n",
       "      <th>17</th>\n",
       "      <td>2007-01-30 01:18:33 IST</td>\n",
       "      <td>8.11</td>\n",
       "      <td>93.70</td>\n",
       "      <td>30</td>\n",
       "      <td>5.4[MB]</td>\n",
       "      <td>124km N of Campbell Bay, Andaman and Nicobar i...</td>\n",
       "    </tr>\n",
       "    <tr>\n",
       "      <th>24</th>\n",
       "      <td>2007-01-31 16:22:30 IST</td>\n",
       "      <td>39.69</td>\n",
       "      <td>69.60</td>\n",
       "      <td>10</td>\n",
       "      <td>5.3[MB]</td>\n",
       "      <td>143km NNE of Dushanbe, Tajikistan</td>\n",
       "    </tr>\n",
       "  </tbody>\n",
       "</table>\n",
       "</div>"
      ],
      "text/plain": [
       "                Origin Time    Lat   Long  Depth Magnitude  \\\n",
       "4   2007-01-24 16:33:31 IST  24.97  94.28     38   4.7[MB]   \n",
       "7   2007-01-25 20:48:38 IST   2.11  97.15     30   5.1[MB]   \n",
       "11  2007-01-28 05:48:52 IST   7.90  88.44     10   4.7[MB]   \n",
       "17  2007-01-30 01:18:33 IST   8.11  93.70     30   5.4[MB]   \n",
       "24  2007-01-31 16:22:30 IST  39.69  69.60     10   5.3[MB]   \n",
       "\n",
       "                                             Location  \n",
       "4                    20km W of Ukhrul, Manipur, India  \n",
       "7                 516km WSW of Kuala Lumpur, Malaysia  \n",
       "11  610km W of Campbell Bay, Andaman and Nicobar i...  \n",
       "17  124km N of Campbell Bay, Andaman and Nicobar i...  \n",
       "24                  143km NNE of Dushanbe, Tajikistan  "
      ]
     },
     "execution_count": 26,
     "metadata": {},
     "output_type": "execute_result"
    }
   ],
   "source": [
    "data_hi.head()"
   ]
  },
  {
   "cell_type": "code",
   "execution_count": 64,
   "metadata": {},
   "outputs": [
    {
     "data": {
      "text/html": [
       "<div>\n",
       "<style scoped>\n",
       "    .dataframe tbody tr th:only-of-type {\n",
       "        vertical-align: middle;\n",
       "    }\n",
       "\n",
       "    .dataframe tbody tr th {\n",
       "        vertical-align: top;\n",
       "    }\n",
       "\n",
       "    .dataframe thead th {\n",
       "        text-align: right;\n",
       "    }\n",
       "</style>\n",
       "<table border=\"1\" class=\"dataframe\">\n",
       "  <thead>\n",
       "    <tr style=\"text-align: right;\">\n",
       "      <th></th>\n",
       "      <th>Origin Time</th>\n",
       "      <th>Lat</th>\n",
       "      <th>Long</th>\n",
       "      <th>Depth</th>\n",
       "      <th>Magnitude</th>\n",
       "      <th>Location</th>\n",
       "    </tr>\n",
       "  </thead>\n",
       "  <tbody>\n",
       "    <tr>\n",
       "      <th>0</th>\n",
       "      <td>2007-01-23 19:03:47 IST</td>\n",
       "      <td>35.50</td>\n",
       "      <td>73.37</td>\n",
       "      <td>33</td>\n",
       "      <td>3.7[ML]</td>\n",
       "      <td>185km NNW of Gulmarg, Jammu and Kashmir, India</td>\n",
       "    </tr>\n",
       "    <tr>\n",
       "      <th>1</th>\n",
       "      <td>2007-01-23 19:16:16 IST</td>\n",
       "      <td>38.40</td>\n",
       "      <td>72.72</td>\n",
       "      <td>96</td>\n",
       "      <td>4.1[ML]</td>\n",
       "      <td>342km E of Dushanbe, Tajikistan</td>\n",
       "    </tr>\n",
       "    <tr>\n",
       "      <th>2</th>\n",
       "      <td>2007-01-24 10:35:34 IST</td>\n",
       "      <td>22.82</td>\n",
       "      <td>68.97</td>\n",
       "      <td>14</td>\n",
       "      <td>2.9[ML]</td>\n",
       "      <td>64km N of Dwarka, Gujarat, India</td>\n",
       "    </tr>\n",
       "    <tr>\n",
       "      <th>3</th>\n",
       "      <td>2007-01-24 15:59:24 IST</td>\n",
       "      <td>25.95</td>\n",
       "      <td>90.27</td>\n",
       "      <td>15</td>\n",
       "      <td>4.0[ML]</td>\n",
       "      <td>48km N of Tura, Meghalaya, India</td>\n",
       "    </tr>\n",
       "    <tr>\n",
       "      <th>5</th>\n",
       "      <td>2007-01-25 08:02:38 IST</td>\n",
       "      <td>36.68</td>\n",
       "      <td>71.12</td>\n",
       "      <td>96</td>\n",
       "      <td>4.2[ML]</td>\n",
       "      <td>292km NE of Kabul , Afghanistan</td>\n",
       "    </tr>\n",
       "  </tbody>\n",
       "</table>\n",
       "</div>"
      ],
      "text/plain": [
       "               Origin Time    Lat   Long  Depth Magnitude  \\\n",
       "0  2007-01-23 19:03:47 IST  35.50  73.37     33   3.7[ML]   \n",
       "1  2007-01-23 19:16:16 IST  38.40  72.72     96   4.1[ML]   \n",
       "2  2007-01-24 10:35:34 IST  22.82  68.97     14   2.9[ML]   \n",
       "3  2007-01-24 15:59:24 IST  25.95  90.27     15   4.0[ML]   \n",
       "5  2007-01-25 08:02:38 IST  36.68  71.12     96   4.2[ML]   \n",
       "\n",
       "                                         Location  \n",
       "0  185km NNW of Gulmarg, Jammu and Kashmir, India  \n",
       "1                 342km E of Dushanbe, Tajikistan  \n",
       "2                64km N of Dwarka, Gujarat, India  \n",
       "3                48km N of Tura, Meghalaya, India  \n",
       "5                 292km NE of Kabul , Afghanistan  "
      ]
     },
     "execution_count": 64,
     "metadata": {},
     "output_type": "execute_result"
    }
   ],
   "source": [
    "data_lo.head()"
   ]
  },
  {
   "cell_type": "code",
   "execution_count": 34,
   "metadata": {},
   "outputs": [
    {
     "data": {
      "text/html": [
       "<div>\n",
       "<style scoped>\n",
       "    .dataframe tbody tr th:only-of-type {\n",
       "        vertical-align: middle;\n",
       "    }\n",
       "\n",
       "    .dataframe tbody tr th {\n",
       "        vertical-align: top;\n",
       "    }\n",
       "\n",
       "    .dataframe thead th {\n",
       "        text-align: right;\n",
       "    }\n",
       "</style>\n",
       "<table border=\"1\" class=\"dataframe\">\n",
       "  <thead>\n",
       "    <tr style=\"text-align: right;\">\n",
       "      <th></th>\n",
       "      <th>Origin Time</th>\n",
       "      <th>Lat</th>\n",
       "      <th>Long</th>\n",
       "      <th>Depth</th>\n",
       "      <th>Magnitude</th>\n",
       "      <th>Location</th>\n",
       "    </tr>\n",
       "  </thead>\n",
       "  <tbody>\n",
       "    <tr>\n",
       "      <th>0</th>\n",
       "      <td>2007-01-24 16:33:31 IST</td>\n",
       "      <td>24.97</td>\n",
       "      <td>94.28</td>\n",
       "      <td>38</td>\n",
       "      <td>4.7[MB]</td>\n",
       "      <td>20km W of Ukhrul, Manipur, India</td>\n",
       "    </tr>\n",
       "    <tr>\n",
       "      <th>1</th>\n",
       "      <td>2007-01-25 20:48:38 IST</td>\n",
       "      <td>2.11</td>\n",
       "      <td>97.15</td>\n",
       "      <td>30</td>\n",
       "      <td>5.1[MB]</td>\n",
       "      <td>516km WSW of Kuala Lumpur, Malaysia</td>\n",
       "    </tr>\n",
       "    <tr>\n",
       "      <th>2</th>\n",
       "      <td>2007-01-28 05:48:52 IST</td>\n",
       "      <td>7.90</td>\n",
       "      <td>88.44</td>\n",
       "      <td>10</td>\n",
       "      <td>4.7[MB]</td>\n",
       "      <td>610km W of Campbell Bay, Andaman and Nicobar i...</td>\n",
       "    </tr>\n",
       "    <tr>\n",
       "      <th>3</th>\n",
       "      <td>2007-01-30 01:18:33 IST</td>\n",
       "      <td>8.11</td>\n",
       "      <td>93.70</td>\n",
       "      <td>30</td>\n",
       "      <td>5.4[MB]</td>\n",
       "      <td>124km N of Campbell Bay, Andaman and Nicobar i...</td>\n",
       "    </tr>\n",
       "    <tr>\n",
       "      <th>4</th>\n",
       "      <td>2007-01-31 16:22:30 IST</td>\n",
       "      <td>39.69</td>\n",
       "      <td>69.60</td>\n",
       "      <td>10</td>\n",
       "      <td>5.3[MB]</td>\n",
       "      <td>143km NNE of Dushanbe, Tajikistan</td>\n",
       "    </tr>\n",
       "  </tbody>\n",
       "</table>\n",
       "</div>"
      ],
      "text/plain": [
       "               Origin Time    Lat   Long  Depth Magnitude  \\\n",
       "0  2007-01-24 16:33:31 IST  24.97  94.28     38   4.7[MB]   \n",
       "1  2007-01-25 20:48:38 IST   2.11  97.15     30   5.1[MB]   \n",
       "2  2007-01-28 05:48:52 IST   7.90  88.44     10   4.7[MB]   \n",
       "3  2007-01-30 01:18:33 IST   8.11  93.70     30   5.4[MB]   \n",
       "4  2007-01-31 16:22:30 IST  39.69  69.60     10   5.3[MB]   \n",
       "\n",
       "                                            Location  \n",
       "0                   20km W of Ukhrul, Manipur, India  \n",
       "1                516km WSW of Kuala Lumpur, Malaysia  \n",
       "2  610km W of Campbell Bay, Andaman and Nicobar i...  \n",
       "3  124km N of Campbell Bay, Andaman and Nicobar i...  \n",
       "4                  143km NNE of Dushanbe, Tajikistan  "
      ]
     },
     "execution_count": 34,
     "metadata": {},
     "output_type": "execute_result"
    }
   ],
   "source": [
    "data_hi.reset_index(drop=True).head()"
   ]
  },
  {
   "cell_type": "code",
   "execution_count": 65,
   "metadata": {},
   "outputs": [
    {
     "data": {
      "text/html": [
       "<div>\n",
       "<style scoped>\n",
       "    .dataframe tbody tr th:only-of-type {\n",
       "        vertical-align: middle;\n",
       "    }\n",
       "\n",
       "    .dataframe tbody tr th {\n",
       "        vertical-align: top;\n",
       "    }\n",
       "\n",
       "    .dataframe thead th {\n",
       "        text-align: right;\n",
       "    }\n",
       "</style>\n",
       "<table border=\"1\" class=\"dataframe\">\n",
       "  <thead>\n",
       "    <tr style=\"text-align: right;\">\n",
       "      <th></th>\n",
       "      <th>Origin Time</th>\n",
       "      <th>Lat</th>\n",
       "      <th>Long</th>\n",
       "      <th>Depth</th>\n",
       "      <th>Magnitude</th>\n",
       "      <th>Location</th>\n",
       "    </tr>\n",
       "  </thead>\n",
       "  <tbody>\n",
       "    <tr>\n",
       "      <th>0</th>\n",
       "      <td>2007-01-23 19:03:47 IST</td>\n",
       "      <td>35.50</td>\n",
       "      <td>73.37</td>\n",
       "      <td>33</td>\n",
       "      <td>3.7[ML]</td>\n",
       "      <td>185km NNW of Gulmarg, Jammu and Kashmir, India</td>\n",
       "    </tr>\n",
       "    <tr>\n",
       "      <th>1</th>\n",
       "      <td>2007-01-23 19:16:16 IST</td>\n",
       "      <td>38.40</td>\n",
       "      <td>72.72</td>\n",
       "      <td>96</td>\n",
       "      <td>4.1[ML]</td>\n",
       "      <td>342km E of Dushanbe, Tajikistan</td>\n",
       "    </tr>\n",
       "    <tr>\n",
       "      <th>2</th>\n",
       "      <td>2007-01-24 10:35:34 IST</td>\n",
       "      <td>22.82</td>\n",
       "      <td>68.97</td>\n",
       "      <td>14</td>\n",
       "      <td>2.9[ML]</td>\n",
       "      <td>64km N of Dwarka, Gujarat, India</td>\n",
       "    </tr>\n",
       "    <tr>\n",
       "      <th>3</th>\n",
       "      <td>2007-01-24 15:59:24 IST</td>\n",
       "      <td>25.95</td>\n",
       "      <td>90.27</td>\n",
       "      <td>15</td>\n",
       "      <td>4.0[ML]</td>\n",
       "      <td>48km N of Tura, Meghalaya, India</td>\n",
       "    </tr>\n",
       "    <tr>\n",
       "      <th>4</th>\n",
       "      <td>2007-01-25 08:02:38 IST</td>\n",
       "      <td>36.68</td>\n",
       "      <td>71.12</td>\n",
       "      <td>96</td>\n",
       "      <td>4.2[ML]</td>\n",
       "      <td>292km NE of Kabul , Afghanistan</td>\n",
       "    </tr>\n",
       "  </tbody>\n",
       "</table>\n",
       "</div>"
      ],
      "text/plain": [
       "               Origin Time    Lat   Long  Depth Magnitude  \\\n",
       "0  2007-01-23 19:03:47 IST  35.50  73.37     33   3.7[ML]   \n",
       "1  2007-01-23 19:16:16 IST  38.40  72.72     96   4.1[ML]   \n",
       "2  2007-01-24 10:35:34 IST  22.82  68.97     14   2.9[ML]   \n",
       "3  2007-01-24 15:59:24 IST  25.95  90.27     15   4.0[ML]   \n",
       "4  2007-01-25 08:02:38 IST  36.68  71.12     96   4.2[ML]   \n",
       "\n",
       "                                         Location  \n",
       "0  185km NNW of Gulmarg, Jammu and Kashmir, India  \n",
       "1                 342km E of Dushanbe, Tajikistan  \n",
       "2                64km N of Dwarka, Gujarat, India  \n",
       "3                48km N of Tura, Meghalaya, India  \n",
       "4                 292km NE of Kabul , Afghanistan  "
      ]
     },
     "execution_count": 65,
     "metadata": {},
     "output_type": "execute_result"
    }
   ],
   "source": [
    "data_lo.reset_index(drop=True).head()"
   ]
  },
  {
   "cell_type": "code",
   "execution_count": null,
   "metadata": {},
   "outputs": [],
   "source": []
  },
  {
   "cell_type": "code",
   "execution_count": 66,
   "metadata": {},
   "outputs": [
    {
     "name": "stderr",
     "output_type": "stream",
     "text": [
      "C:\\Users\\shash\\anaconda3\\lib\\site-packages\\ipykernel_launcher.py:1: SettingWithCopyWarning: \n",
      "A value is trying to be set on a copy of a slice from a DataFrame.\n",
      "Try using .loc[row_indexer,col_indexer] = value instead\n",
      "\n",
      "See the caveats in the documentation: https://pandas.pydata.org/pandas-docs/stable/user_guide/indexing.html#returning-a-view-versus-a-copy\n",
      "  \"\"\"Entry point for launching an IPython kernel.\n",
      "C:\\Users\\shash\\anaconda3\\lib\\site-packages\\ipykernel_launcher.py:2: SettingWithCopyWarning: \n",
      "A value is trying to be set on a copy of a slice from a DataFrame.\n",
      "Try using .loc[row_indexer,col_indexer] = value instead\n",
      "\n",
      "See the caveats in the documentation: https://pandas.pydata.org/pandas-docs/stable/user_guide/indexing.html#returning-a-view-versus-a-copy\n",
      "  \n"
     ]
    }
   ],
   "source": [
    "data_hi['Mag'] = data_hi['Magnitude'].str.slice(0,3,1).astype(float)\n",
    "data_lo['Mag'] = data_lo['Magnitude'].str.slice(0,3,1).astype(float)"
   ]
  },
  {
   "cell_type": "code",
   "execution_count": 50,
   "metadata": {},
   "outputs": [
    {
     "data": {
      "text/html": [
       "<div>\n",
       "<style scoped>\n",
       "    .dataframe tbody tr th:only-of-type {\n",
       "        vertical-align: middle;\n",
       "    }\n",
       "\n",
       "    .dataframe tbody tr th {\n",
       "        vertical-align: top;\n",
       "    }\n",
       "\n",
       "    .dataframe thead th {\n",
       "        text-align: right;\n",
       "    }\n",
       "</style>\n",
       "<table border=\"1\" class=\"dataframe\">\n",
       "  <thead>\n",
       "    <tr style=\"text-align: right;\">\n",
       "      <th></th>\n",
       "      <th>Origin Time</th>\n",
       "      <th>Lat</th>\n",
       "      <th>Long</th>\n",
       "      <th>Depth</th>\n",
       "      <th>Magnitude</th>\n",
       "      <th>Location</th>\n",
       "      <th>Mag</th>\n",
       "    </tr>\n",
       "  </thead>\n",
       "  <tbody>\n",
       "    <tr>\n",
       "      <th>0</th>\n",
       "      <td>2007-01-24 16:33:31 IST</td>\n",
       "      <td>24.97</td>\n",
       "      <td>94.28</td>\n",
       "      <td>38</td>\n",
       "      <td>4.7[MB]</td>\n",
       "      <td>20km W of Ukhrul, Manipur, India</td>\n",
       "      <td>4.7</td>\n",
       "    </tr>\n",
       "    <tr>\n",
       "      <th>1</th>\n",
       "      <td>2007-01-25 20:48:38 IST</td>\n",
       "      <td>2.11</td>\n",
       "      <td>97.15</td>\n",
       "      <td>30</td>\n",
       "      <td>5.1[MB]</td>\n",
       "      <td>516km WSW of Kuala Lumpur, Malaysia</td>\n",
       "      <td>5.1</td>\n",
       "    </tr>\n",
       "    <tr>\n",
       "      <th>2</th>\n",
       "      <td>2007-01-28 05:48:52 IST</td>\n",
       "      <td>7.90</td>\n",
       "      <td>88.44</td>\n",
       "      <td>10</td>\n",
       "      <td>4.7[MB]</td>\n",
       "      <td>610km W of Campbell Bay, Andaman and Nicobar i...</td>\n",
       "      <td>4.7</td>\n",
       "    </tr>\n",
       "    <tr>\n",
       "      <th>3</th>\n",
       "      <td>2007-01-30 01:18:33 IST</td>\n",
       "      <td>8.11</td>\n",
       "      <td>93.70</td>\n",
       "      <td>30</td>\n",
       "      <td>5.4[MB]</td>\n",
       "      <td>124km N of Campbell Bay, Andaman and Nicobar i...</td>\n",
       "      <td>5.4</td>\n",
       "    </tr>\n",
       "    <tr>\n",
       "      <th>4</th>\n",
       "      <td>2007-01-31 16:22:30 IST</td>\n",
       "      <td>39.69</td>\n",
       "      <td>69.60</td>\n",
       "      <td>10</td>\n",
       "      <td>5.3[MB]</td>\n",
       "      <td>143km NNE of Dushanbe, Tajikistan</td>\n",
       "      <td>5.3</td>\n",
       "    </tr>\n",
       "  </tbody>\n",
       "</table>\n",
       "</div>"
      ],
      "text/plain": [
       "               Origin Time    Lat   Long  Depth Magnitude  \\\n",
       "0  2007-01-24 16:33:31 IST  24.97  94.28     38   4.7[MB]   \n",
       "1  2007-01-25 20:48:38 IST   2.11  97.15     30   5.1[MB]   \n",
       "2  2007-01-28 05:48:52 IST   7.90  88.44     10   4.7[MB]   \n",
       "3  2007-01-30 01:18:33 IST   8.11  93.70     30   5.4[MB]   \n",
       "4  2007-01-31 16:22:30 IST  39.69  69.60     10   5.3[MB]   \n",
       "\n",
       "                                            Location  Mag  \n",
       "0                   20km W of Ukhrul, Manipur, India  4.7  \n",
       "1                516km WSW of Kuala Lumpur, Malaysia  5.1  \n",
       "2  610km W of Campbell Bay, Andaman and Nicobar i...  4.7  \n",
       "3  124km N of Campbell Bay, Andaman and Nicobar i...  5.4  \n",
       "4                  143km NNE of Dushanbe, Tajikistan  5.3  "
      ]
     },
     "execution_count": 50,
     "metadata": {},
     "output_type": "execute_result"
    }
   ],
   "source": [
    "data_hi.head()"
   ]
  },
  {
   "cell_type": "code",
   "execution_count": 54,
   "metadata": {},
   "outputs": [
    {
     "data": {
      "text/plain": [
       "985"
      ]
     },
     "execution_count": 54,
     "metadata": {},
     "output_type": "execute_result"
    }
   ],
   "source": [
    "len(data_hi)"
   ]
  },
  {
   "cell_type": "code",
   "execution_count": 53,
   "metadata": {},
   "outputs": [
    {
     "data": {
      "text/plain": [
       "598"
      ]
     },
     "execution_count": 53,
     "metadata": {},
     "output_type": "execute_result"
    }
   ],
   "source": [
    "data_hi_Indi = data_hi[data_hi.Location.str.contains('India')]\n",
    "len(data_hi_Indi)"
   ]
  },
  {
   "cell_type": "code",
   "execution_count": 72,
   "metadata": {},
   "outputs": [],
   "source": [
    "ncr = 'Delhi|Rohtak|Gurgaon|Gurugram|Noida|Meerut|Ghaziabad|Faridabad'\n",
    "#data_hi_ncr = data_hi[data_hi.Location.str.contains(ncr)]\n",
    "\n",
    "data_ncr = data[data.Location.str.contains(ncr)]"
   ]
  },
  {
   "cell_type": "code",
   "execution_count": 73,
   "metadata": {},
   "outputs": [
    {
     "data": {
      "text/html": [
       "<div>\n",
       "<style scoped>\n",
       "    .dataframe tbody tr th:only-of-type {\n",
       "        vertical-align: middle;\n",
       "    }\n",
       "\n",
       "    .dataframe tbody tr th {\n",
       "        vertical-align: top;\n",
       "    }\n",
       "\n",
       "    .dataframe thead th {\n",
       "        text-align: right;\n",
       "    }\n",
       "</style>\n",
       "<table border=\"1\" class=\"dataframe\">\n",
       "  <thead>\n",
       "    <tr style=\"text-align: right;\">\n",
       "      <th></th>\n",
       "      <th>Origin Time</th>\n",
       "      <th>Lat</th>\n",
       "      <th>Long</th>\n",
       "      <th>Depth</th>\n",
       "      <th>Magnitude</th>\n",
       "      <th>Location</th>\n",
       "    </tr>\n",
       "  </thead>\n",
       "  <tbody>\n",
       "    <tr>\n",
       "      <th>15</th>\n",
       "      <td>2007-01-29 15:36:57 IST</td>\n",
       "      <td>28.84</td>\n",
       "      <td>76.60</td>\n",
       "      <td>11</td>\n",
       "      <td>1.8[ML]</td>\n",
       "      <td>6km S of Rohtak, Haryana, India</td>\n",
       "    </tr>\n",
       "    <tr>\n",
       "      <th>18</th>\n",
       "      <td>2007-01-30 01:56:00 IST</td>\n",
       "      <td>28.90</td>\n",
       "      <td>76.61</td>\n",
       "      <td>10</td>\n",
       "      <td>2.2[ML]</td>\n",
       "      <td>0km NNE of Rohtak, Haryana, India</td>\n",
       "    </tr>\n",
       "    <tr>\n",
       "      <th>19</th>\n",
       "      <td>2007-01-30 02:22:38 IST</td>\n",
       "      <td>28.83</td>\n",
       "      <td>76.61</td>\n",
       "      <td>12</td>\n",
       "      <td>2.1[ML]</td>\n",
       "      <td>7km S of Rohtak, Haryana, India</td>\n",
       "    </tr>\n",
       "    <tr>\n",
       "      <th>22</th>\n",
       "      <td>2007-01-30 19:24:45 IST</td>\n",
       "      <td>29.30</td>\n",
       "      <td>77.61</td>\n",
       "      <td>33</td>\n",
       "      <td>2.2[ML]</td>\n",
       "      <td>86km NNE of New Delhi, India</td>\n",
       "    </tr>\n",
       "    <tr>\n",
       "      <th>52</th>\n",
       "      <td>2007-02-08 11:57:25 IST</td>\n",
       "      <td>28.92</td>\n",
       "      <td>76.72</td>\n",
       "      <td>15</td>\n",
       "      <td>2.2[ML]</td>\n",
       "      <td>11km ENE of Rohtak, Haryana, India</td>\n",
       "    </tr>\n",
       "  </tbody>\n",
       "</table>\n",
       "</div>"
      ],
      "text/plain": [
       "                Origin Time    Lat   Long  Depth Magnitude  \\\n",
       "15  2007-01-29 15:36:57 IST  28.84  76.60     11   1.8[ML]   \n",
       "18  2007-01-30 01:56:00 IST  28.90  76.61     10   2.2[ML]   \n",
       "19  2007-01-30 02:22:38 IST  28.83  76.61     12   2.1[ML]   \n",
       "22  2007-01-30 19:24:45 IST  29.30  77.61     33   2.2[ML]   \n",
       "52  2007-02-08 11:57:25 IST  28.92  76.72     15   2.2[ML]   \n",
       "\n",
       "                              Location  \n",
       "15     6km S of Rohtak, Haryana, India  \n",
       "18   0km NNE of Rohtak, Haryana, India  \n",
       "19     7km S of Rohtak, Haryana, India  \n",
       "22        86km NNE of New Delhi, India  \n",
       "52  11km ENE of Rohtak, Haryana, India  "
      ]
     },
     "execution_count": 73,
     "metadata": {},
     "output_type": "execute_result"
    }
   ],
   "source": [
    "data_ncr.head()"
   ]
  },
  {
   "cell_type": "code",
   "execution_count": 76,
   "metadata": {},
   "outputs": [
    {
     "name": "stderr",
     "output_type": "stream",
     "text": [
      "C:\\Users\\shash\\anaconda3\\lib\\site-packages\\ipykernel_launcher.py:1: SettingWithCopyWarning: \n",
      "A value is trying to be set on a copy of a slice from a DataFrame.\n",
      "Try using .loc[row_indexer,col_indexer] = value instead\n",
      "\n",
      "See the caveats in the documentation: https://pandas.pydata.org/pandas-docs/stable/user_guide/indexing.html#returning-a-view-versus-a-copy\n",
      "  \"\"\"Entry point for launching an IPython kernel.\n"
     ]
    }
   ],
   "source": [
    "data_ncr['Mag'] = data_ncr.Magnitude.str.slice(0,3,1).astype(float)"
   ]
  },
  {
   "cell_type": "code",
   "execution_count": 77,
   "metadata": {},
   "outputs": [
    {
     "data": {
      "text/html": [
       "<div>\n",
       "<style scoped>\n",
       "    .dataframe tbody tr th:only-of-type {\n",
       "        vertical-align: middle;\n",
       "    }\n",
       "\n",
       "    .dataframe tbody tr th {\n",
       "        vertical-align: top;\n",
       "    }\n",
       "\n",
       "    .dataframe thead th {\n",
       "        text-align: right;\n",
       "    }\n",
       "</style>\n",
       "<table border=\"1\" class=\"dataframe\">\n",
       "  <thead>\n",
       "    <tr style=\"text-align: right;\">\n",
       "      <th></th>\n",
       "      <th>Origin Time</th>\n",
       "      <th>Lat</th>\n",
       "      <th>Long</th>\n",
       "      <th>Depth</th>\n",
       "      <th>Magnitude</th>\n",
       "      <th>Location</th>\n",
       "      <th>Mag</th>\n",
       "    </tr>\n",
       "  </thead>\n",
       "  <tbody>\n",
       "    <tr>\n",
       "      <th>15</th>\n",
       "      <td>2007-01-29 15:36:57 IST</td>\n",
       "      <td>28.84</td>\n",
       "      <td>76.60</td>\n",
       "      <td>11</td>\n",
       "      <td>1.8[ML]</td>\n",
       "      <td>6km S of Rohtak, Haryana, India</td>\n",
       "      <td>1.8</td>\n",
       "    </tr>\n",
       "    <tr>\n",
       "      <th>18</th>\n",
       "      <td>2007-01-30 01:56:00 IST</td>\n",
       "      <td>28.90</td>\n",
       "      <td>76.61</td>\n",
       "      <td>10</td>\n",
       "      <td>2.2[ML]</td>\n",
       "      <td>0km NNE of Rohtak, Haryana, India</td>\n",
       "      <td>2.2</td>\n",
       "    </tr>\n",
       "    <tr>\n",
       "      <th>19</th>\n",
       "      <td>2007-01-30 02:22:38 IST</td>\n",
       "      <td>28.83</td>\n",
       "      <td>76.61</td>\n",
       "      <td>12</td>\n",
       "      <td>2.1[ML]</td>\n",
       "      <td>7km S of Rohtak, Haryana, India</td>\n",
       "      <td>2.1</td>\n",
       "    </tr>\n",
       "    <tr>\n",
       "      <th>22</th>\n",
       "      <td>2007-01-30 19:24:45 IST</td>\n",
       "      <td>29.30</td>\n",
       "      <td>77.61</td>\n",
       "      <td>33</td>\n",
       "      <td>2.2[ML]</td>\n",
       "      <td>86km NNE of New Delhi, India</td>\n",
       "      <td>2.2</td>\n",
       "    </tr>\n",
       "    <tr>\n",
       "      <th>52</th>\n",
       "      <td>2007-02-08 11:57:25 IST</td>\n",
       "      <td>28.92</td>\n",
       "      <td>76.72</td>\n",
       "      <td>15</td>\n",
       "      <td>2.2[ML]</td>\n",
       "      <td>11km ENE of Rohtak, Haryana, India</td>\n",
       "      <td>2.2</td>\n",
       "    </tr>\n",
       "  </tbody>\n",
       "</table>\n",
       "</div>"
      ],
      "text/plain": [
       "                Origin Time    Lat   Long  Depth Magnitude  \\\n",
       "15  2007-01-29 15:36:57 IST  28.84  76.60     11   1.8[ML]   \n",
       "18  2007-01-30 01:56:00 IST  28.90  76.61     10   2.2[ML]   \n",
       "19  2007-01-30 02:22:38 IST  28.83  76.61     12   2.1[ML]   \n",
       "22  2007-01-30 19:24:45 IST  29.30  77.61     33   2.2[ML]   \n",
       "52  2007-02-08 11:57:25 IST  28.92  76.72     15   2.2[ML]   \n",
       "\n",
       "                              Location  Mag  \n",
       "15     6km S of Rohtak, Haryana, India  1.8  \n",
       "18   0km NNE of Rohtak, Haryana, India  2.2  \n",
       "19     7km S of Rohtak, Haryana, India  2.1  \n",
       "22        86km NNE of New Delhi, India  2.2  \n",
       "52  11km ENE of Rohtak, Haryana, India  2.2  "
      ]
     },
     "execution_count": 77,
     "metadata": {},
     "output_type": "execute_result"
    }
   ],
   "source": [
    "data_ncr.head()"
   ]
  },
  {
   "cell_type": "code",
   "execution_count": 78,
   "metadata": {},
   "outputs": [
    {
     "name": "stderr",
     "output_type": "stream",
     "text": [
      "C:\\Users\\shash\\anaconda3\\lib\\site-packages\\ipykernel_launcher.py:1: SettingWithCopyWarning: \n",
      "A value is trying to be set on a copy of a slice from a DataFrame.\n",
      "Try using .loc[row_indexer,col_indexer] = value instead\n",
      "\n",
      "See the caveats in the documentation: https://pandas.pydata.org/pandas-docs/stable/user_guide/indexing.html#returning-a-view-versus-a-copy\n",
      "  \"\"\"Entry point for launching an IPython kernel.\n"
     ]
    }
   ],
   "source": [
    "data_ncr['Year'] = data_ncr['Origin Time'].str.slice(0,4,1).astype(int)"
   ]
  },
  {
   "cell_type": "code",
   "execution_count": 80,
   "metadata": {},
   "outputs": [
    {
     "data": {
      "text/html": [
       "<div>\n",
       "<style scoped>\n",
       "    .dataframe tbody tr th:only-of-type {\n",
       "        vertical-align: middle;\n",
       "    }\n",
       "\n",
       "    .dataframe tbody tr th {\n",
       "        vertical-align: top;\n",
       "    }\n",
       "\n",
       "    .dataframe thead th {\n",
       "        text-align: right;\n",
       "    }\n",
       "</style>\n",
       "<table border=\"1\" class=\"dataframe\">\n",
       "  <thead>\n",
       "    <tr style=\"text-align: right;\">\n",
       "      <th></th>\n",
       "      <th>Origin Time</th>\n",
       "      <th>Lat</th>\n",
       "      <th>Long</th>\n",
       "      <th>Depth</th>\n",
       "      <th>Magnitude</th>\n",
       "      <th>Location</th>\n",
       "      <th>Mag</th>\n",
       "      <th>Year</th>\n",
       "    </tr>\n",
       "  </thead>\n",
       "  <tbody>\n",
       "    <tr>\n",
       "      <th>15</th>\n",
       "      <td>2007-01-29 15:36:57 IST</td>\n",
       "      <td>28.84</td>\n",
       "      <td>76.60</td>\n",
       "      <td>11</td>\n",
       "      <td>1.8[ML]</td>\n",
       "      <td>6km S of Rohtak, Haryana, India</td>\n",
       "      <td>1.8</td>\n",
       "      <td>2007</td>\n",
       "    </tr>\n",
       "    <tr>\n",
       "      <th>18</th>\n",
       "      <td>2007-01-30 01:56:00 IST</td>\n",
       "      <td>28.90</td>\n",
       "      <td>76.61</td>\n",
       "      <td>10</td>\n",
       "      <td>2.2[ML]</td>\n",
       "      <td>0km NNE of Rohtak, Haryana, India</td>\n",
       "      <td>2.2</td>\n",
       "      <td>2007</td>\n",
       "    </tr>\n",
       "    <tr>\n",
       "      <th>19</th>\n",
       "      <td>2007-01-30 02:22:38 IST</td>\n",
       "      <td>28.83</td>\n",
       "      <td>76.61</td>\n",
       "      <td>12</td>\n",
       "      <td>2.1[ML]</td>\n",
       "      <td>7km S of Rohtak, Haryana, India</td>\n",
       "      <td>2.1</td>\n",
       "      <td>2007</td>\n",
       "    </tr>\n",
       "    <tr>\n",
       "      <th>22</th>\n",
       "      <td>2007-01-30 19:24:45 IST</td>\n",
       "      <td>29.30</td>\n",
       "      <td>77.61</td>\n",
       "      <td>33</td>\n",
       "      <td>2.2[ML]</td>\n",
       "      <td>86km NNE of New Delhi, India</td>\n",
       "      <td>2.2</td>\n",
       "      <td>2007</td>\n",
       "    </tr>\n",
       "    <tr>\n",
       "      <th>52</th>\n",
       "      <td>2007-02-08 11:57:25 IST</td>\n",
       "      <td>28.92</td>\n",
       "      <td>76.72</td>\n",
       "      <td>15</td>\n",
       "      <td>2.2[ML]</td>\n",
       "      <td>11km ENE of Rohtak, Haryana, India</td>\n",
       "      <td>2.2</td>\n",
       "      <td>2007</td>\n",
       "    </tr>\n",
       "  </tbody>\n",
       "</table>\n",
       "</div>"
      ],
      "text/plain": [
       "                Origin Time    Lat   Long  Depth Magnitude  \\\n",
       "15  2007-01-29 15:36:57 IST  28.84  76.60     11   1.8[ML]   \n",
       "18  2007-01-30 01:56:00 IST  28.90  76.61     10   2.2[ML]   \n",
       "19  2007-01-30 02:22:38 IST  28.83  76.61     12   2.1[ML]   \n",
       "22  2007-01-30 19:24:45 IST  29.30  77.61     33   2.2[ML]   \n",
       "52  2007-02-08 11:57:25 IST  28.92  76.72     15   2.2[ML]   \n",
       "\n",
       "                              Location  Mag  Year  \n",
       "15     6km S of Rohtak, Haryana, India  1.8  2007  \n",
       "18   0km NNE of Rohtak, Haryana, India  2.2  2007  \n",
       "19     7km S of Rohtak, Haryana, India  2.1  2007  \n",
       "22        86km NNE of New Delhi, India  2.2  2007  \n",
       "52  11km ENE of Rohtak, Haryana, India  2.2  2007  "
      ]
     },
     "execution_count": 80,
     "metadata": {},
     "output_type": "execute_result"
    }
   ],
   "source": [
    "data_ncr.head()"
   ]
  },
  {
   "cell_type": "code",
   "execution_count": 104,
   "metadata": {},
   "outputs": [
    {
     "data": {
      "text/plain": [
       "Year\n",
       "2007    4.6\n",
       "2008    3.5\n",
       "2009    2.7\n",
       "2010    3.4\n",
       "2011    3.8\n",
       "2012    5.1\n",
       "2013    3.5\n",
       "2014    3.4\n",
       "2015    3.6\n",
       "2016    4.6\n",
       "2017    4.6\n",
       "2018    3.9\n",
       "2019    3.8\n",
       "Name: Mag, dtype: float64"
      ]
     },
     "execution_count": 104,
     "metadata": {},
     "output_type": "execute_result"
    }
   ],
   "source": [
    "data_ncr.groupby('Year')['Mag'].max()"
   ]
  },
  {
   "cell_type": "code",
   "execution_count": 114,
   "metadata": {},
   "outputs": [
    {
     "data": {
      "text/html": [
       "<div>\n",
       "<style scoped>\n",
       "    .dataframe tbody tr th:only-of-type {\n",
       "        vertical-align: middle;\n",
       "    }\n",
       "\n",
       "    .dataframe tbody tr th {\n",
       "        vertical-align: top;\n",
       "    }\n",
       "\n",
       "    .dataframe thead th {\n",
       "        text-align: right;\n",
       "    }\n",
       "</style>\n",
       "<table border=\"1\" class=\"dataframe\">\n",
       "  <thead>\n",
       "    <tr style=\"text-align: right;\">\n",
       "      <th></th>\n",
       "      <th></th>\n",
       "      <th>Origin Time</th>\n",
       "      <th>Lat</th>\n",
       "      <th>Long</th>\n",
       "      <th>Depth</th>\n",
       "      <th>Magnitude</th>\n",
       "      <th>Location</th>\n",
       "      <th>Mag</th>\n",
       "      <th>Year</th>\n",
       "    </tr>\n",
       "    <tr>\n",
       "      <th>Year</th>\n",
       "      <th></th>\n",
       "      <th></th>\n",
       "      <th></th>\n",
       "      <th></th>\n",
       "      <th></th>\n",
       "      <th></th>\n",
       "      <th></th>\n",
       "      <th></th>\n",
       "      <th></th>\n",
       "    </tr>\n",
       "  </thead>\n",
       "  <tbody>\n",
       "    <tr>\n",
       "      <th rowspan=\"5\" valign=\"top\">2007</th>\n",
       "      <th>15</th>\n",
       "      <td>2007-01-29 15:36:57 IST</td>\n",
       "      <td>28.84</td>\n",
       "      <td>76.60</td>\n",
       "      <td>11</td>\n",
       "      <td>1.8[ML]</td>\n",
       "      <td>6km S of Rohtak, Haryana, India</td>\n",
       "      <td>1.8</td>\n",
       "      <td>2007</td>\n",
       "    </tr>\n",
       "    <tr>\n",
       "      <th>18</th>\n",
       "      <td>2007-01-30 01:56:00 IST</td>\n",
       "      <td>28.90</td>\n",
       "      <td>76.61</td>\n",
       "      <td>10</td>\n",
       "      <td>2.2[ML]</td>\n",
       "      <td>0km NNE of Rohtak, Haryana, India</td>\n",
       "      <td>2.2</td>\n",
       "      <td>2007</td>\n",
       "    </tr>\n",
       "    <tr>\n",
       "      <th>19</th>\n",
       "      <td>2007-01-30 02:22:38 IST</td>\n",
       "      <td>28.83</td>\n",
       "      <td>76.61</td>\n",
       "      <td>12</td>\n",
       "      <td>2.1[ML]</td>\n",
       "      <td>7km S of Rohtak, Haryana, India</td>\n",
       "      <td>2.1</td>\n",
       "      <td>2007</td>\n",
       "    </tr>\n",
       "    <tr>\n",
       "      <th>22</th>\n",
       "      <td>2007-01-30 19:24:45 IST</td>\n",
       "      <td>29.30</td>\n",
       "      <td>77.61</td>\n",
       "      <td>33</td>\n",
       "      <td>2.2[ML]</td>\n",
       "      <td>86km NNE of New Delhi, India</td>\n",
       "      <td>2.2</td>\n",
       "      <td>2007</td>\n",
       "    </tr>\n",
       "    <tr>\n",
       "      <th>52</th>\n",
       "      <td>2007-02-08 11:57:25 IST</td>\n",
       "      <td>28.92</td>\n",
       "      <td>76.72</td>\n",
       "      <td>15</td>\n",
       "      <td>2.2[ML]</td>\n",
       "      <td>11km ENE of Rohtak, Haryana, India</td>\n",
       "      <td>2.2</td>\n",
       "      <td>2007</td>\n",
       "    </tr>\n",
       "    <tr>\n",
       "      <th>...</th>\n",
       "      <th>...</th>\n",
       "      <td>...</td>\n",
       "      <td>...</td>\n",
       "      <td>...</td>\n",
       "      <td>...</td>\n",
       "      <td>...</td>\n",
       "      <td>...</td>\n",
       "      <td>...</td>\n",
       "      <td>...</td>\n",
       "    </tr>\n",
       "    <tr>\n",
       "      <th rowspan=\"2\" valign=\"top\">2018</th>\n",
       "      <th>9746</th>\n",
       "      <td>2018-12-15 02:54:59 IST</td>\n",
       "      <td>28.69</td>\n",
       "      <td>77.42</td>\n",
       "      <td>19</td>\n",
       "      <td>2.5[ML] 2.6[MW]</td>\n",
       "      <td>17km N of Noida, Uttar Pradesh, India</td>\n",
       "      <td>2.5</td>\n",
       "      <td>2018</td>\n",
       "    </tr>\n",
       "    <tr>\n",
       "      <th>9759</th>\n",
       "      <td>2018-12-20 18:40:47 IST</td>\n",
       "      <td>28.90</td>\n",
       "      <td>77.70</td>\n",
       "      <td>10</td>\n",
       "      <td>2.6[ML] 2.7[MW]</td>\n",
       "      <td>50km NE of Noida, Uttar Pradesh, India</td>\n",
       "      <td>2.6</td>\n",
       "      <td>2018</td>\n",
       "    </tr>\n",
       "    <tr>\n",
       "      <th rowspan=\"3\" valign=\"top\">2019</th>\n",
       "      <th>9892</th>\n",
       "      <td>2019-02-08 13:53:00 IST</td>\n",
       "      <td>28.22</td>\n",
       "      <td>76.35</td>\n",
       "      <td>5</td>\n",
       "      <td>3.8[ML] 3.8[MW]</td>\n",
       "      <td>71km WSW of Gurugram, Haryana, India</td>\n",
       "      <td>3.8</td>\n",
       "      <td>2019</td>\n",
       "    </tr>\n",
       "    <tr>\n",
       "      <th>9911</th>\n",
       "      <td>2019-02-20 07:59:32 IST</td>\n",
       "      <td>28.94</td>\n",
       "      <td>77.31</td>\n",
       "      <td>8</td>\n",
       "      <td>3.8[ML] 3.6[MW]</td>\n",
       "      <td>37km NNE of New Delhi, India</td>\n",
       "      <td>3.8</td>\n",
       "      <td>2019</td>\n",
       "    </tr>\n",
       "    <tr>\n",
       "      <th>9967</th>\n",
       "      <td>2019-03-17 05:11:34 IST</td>\n",
       "      <td>27.69</td>\n",
       "      <td>77.26</td>\n",
       "      <td>14</td>\n",
       "      <td>3.8[ML] 3.6[MW]</td>\n",
       "      <td>80km S of Faridabad, Haryana, India</td>\n",
       "      <td>3.8</td>\n",
       "      <td>2019</td>\n",
       "    </tr>\n",
       "  </tbody>\n",
       "</table>\n",
       "<p>382 rows × 8 columns</p>\n",
       "</div>"
      ],
      "text/plain": [
       "                       Origin Time    Lat   Long  Depth        Magnitude  \\\n",
       "Year                                                                       \n",
       "2007 15    2007-01-29 15:36:57 IST  28.84  76.60     11          1.8[ML]   \n",
       "     18    2007-01-30 01:56:00 IST  28.90  76.61     10          2.2[ML]   \n",
       "     19    2007-01-30 02:22:38 IST  28.83  76.61     12          2.1[ML]   \n",
       "     22    2007-01-30 19:24:45 IST  29.30  77.61     33          2.2[ML]   \n",
       "     52    2007-02-08 11:57:25 IST  28.92  76.72     15          2.2[ML]   \n",
       "...                            ...    ...    ...    ...              ...   \n",
       "2018 9746  2018-12-15 02:54:59 IST  28.69  77.42     19  2.5[ML] 2.6[MW]   \n",
       "     9759  2018-12-20 18:40:47 IST  28.90  77.70     10  2.6[ML] 2.7[MW]   \n",
       "2019 9892  2019-02-08 13:53:00 IST  28.22  76.35      5  3.8[ML] 3.8[MW]   \n",
       "     9911  2019-02-20 07:59:32 IST  28.94  77.31      8  3.8[ML] 3.6[MW]   \n",
       "     9967  2019-03-17 05:11:34 IST  27.69  77.26     14  3.8[ML] 3.6[MW]   \n",
       "\n",
       "                                         Location  Mag  Year  \n",
       "Year                                                          \n",
       "2007 15           6km S of Rohtak, Haryana, India  1.8  2007  \n",
       "     18         0km NNE of Rohtak, Haryana, India  2.2  2007  \n",
       "     19           7km S of Rohtak, Haryana, India  2.1  2007  \n",
       "     22              86km NNE of New Delhi, India  2.2  2007  \n",
       "     52        11km ENE of Rohtak, Haryana, India  2.2  2007  \n",
       "...                                           ...  ...   ...  \n",
       "2018 9746   17km N of Noida, Uttar Pradesh, India  2.5  2018  \n",
       "     9759  50km NE of Noida, Uttar Pradesh, India  2.6  2018  \n",
       "2019 9892    71km WSW of Gurugram, Haryana, India  3.8  2019  \n",
       "     9911            37km NNE of New Delhi, India  3.8  2019  \n",
       "     9967     80km S of Faridabad, Haryana, India  3.8  2019  \n",
       "\n",
       "[382 rows x 8 columns]"
      ]
     },
     "execution_count": 114,
     "metadata": {},
     "output_type": "execute_result"
    }
   ],
   "source": [
    "data_ncr.groupby('Year').apply(lambda data_ncr: data_ncr[:] )"
   ]
  },
  {
   "cell_type": "code",
   "execution_count": null,
   "metadata": {},
   "outputs": [],
   "source": []
  },
  {
   "cell_type": "code",
   "execution_count": 187,
   "metadata": {},
   "outputs": [
    {
     "data": {
      "text/plain": [
       "[<matplotlib.lines.Line2D at 0x1e12e08ec88>]"
      ]
     },
     "execution_count": 187,
     "metadata": {},
     "output_type": "execute_result"
    },
    {
     "data": {
      "image/png": "[encoded data removed]",
      "text/plain": [
       "<Figure size 720x432 with 1 Axes>"
      ]
     },
     "metadata": {
      "needs_background": "light"
     },
     "output_type": "display_data"
    }
   ],
   "source": [
    "plt.figure(figsize=(10,6))\n",
    "plt.plot(data_ncr.Year.unique(),data_ncr.groupby('Year').Mag.max())"
   ]
  },
  {
   "cell_type": "code",
   "execution_count": 188,
   "metadata": {},
   "outputs": [
    {
     "data": {
      "text/plain": [
       "<matplotlib.collections.PathCollection at 0x1e12de7a5c8>"
      ]
     },
     "execution_count": 188,
     "metadata": {},
     "output_type": "execute_result"
    },
    {
     "data": {
      "image/png": "[encoded data removed]",
      "text/plain": [
       "<Figure size 720x432 with 1 Axes>"
      ]
     },
     "metadata": {
      "needs_background": "light"
     },
     "output_type": "display_data"
    }
   ],
   "source": [
    "plt.figure(figsize=(10,6))\n",
    "plt.scatter(data_ncr.Year.unique(),data_ncr.groupby('Year').Mag.max())"
   ]
  },
  {
   "cell_type": "code",
   "execution_count": 125,
   "metadata": {},
   "outputs": [
    {
     "data": {
      "text/plain": [
       "[<matplotlib.lines.Line2D at 0x1e128c82708>]"
      ]
     },
     "execution_count": 125,
     "metadata": {},
     "output_type": "execute_result"
    },
    {
     "data": {
      "image/png": "[encoded data removed]",
      "text/plain": [
       "<Figure size 1080x432 with 1 Axes>"
      ]
     },
     "metadata": {
      "needs_background": "light"
     },
     "output_type": "display_data"
    }
   ],
   "source": [
    "plt.figure(figsize=(15,6))\n",
    "plt.plot(data_ncr.Year,data_ncr.Mag)"
   ]
  },
  {
   "cell_type": "code",
   "execution_count": 133,
   "metadata": {},
   "outputs": [
    {
     "data": {
      "text/plain": [
       "<matplotlib.collections.PathCollection at 0x1e12b923f88>"
      ]
     },
     "execution_count": 133,
     "metadata": {},
     "output_type": "execute_result"
    },
    {
     "data": {
      "image/png": "[encoded data removed]",
      "text/plain": [
       "<Figure size 1080x432 with 1 Axes>"
      ]
     },
     "metadata": {
      "needs_background": "light"
     },
     "output_type": "display_data"
    }
   ],
   "source": [
    "plt.figure(figsize=(15,6))\n",
    "plt.scatter(data_ncr['Origin Time'],data_ncr.Mag)"
   ]
  },
  {
   "cell_type": "code",
   "execution_count": 137,
   "metadata": {},
   "outputs": [],
   "source": [
    "#plt.figure(figsize=(15,6))\n",
    "#plt.scatter(data_ncr[data_ncr.Year == 2007]['Origin Time'],data_ncr.Mag)"
   ]
  },
  {
   "cell_type": "code",
   "execution_count": 138,
   "metadata": {},
   "outputs": [
    {
     "name": "stderr",
     "output_type": "stream",
     "text": [
      "C:\\Users\\shash\\anaconda3\\lib\\site-packages\\ipykernel_launcher.py:1: SettingWithCopyWarning: \n",
      "A value is trying to be set on a copy of a slice from a DataFrame.\n",
      "Try using .loc[row_indexer,col_indexer] = value instead\n",
      "\n",
      "See the caveats in the documentation: https://pandas.pydata.org/pandas-docs/stable/user_guide/indexing.html#returning-a-view-versus-a-copy\n",
      "  \"\"\"Entry point for launching an IPython kernel.\n"
     ]
    }
   ],
   "source": [
    "data_ncr['mnth'] = data_ncr['Origin Time'].str.slice(5,7,1).astype(int)"
   ]
  },
  {
   "cell_type": "code",
   "execution_count": 139,
   "metadata": {},
   "outputs": [
    {
     "data": {
      "text/html": [
       "<div>\n",
       "<style scoped>\n",
       "    .dataframe tbody tr th:only-of-type {\n",
       "        vertical-align: middle;\n",
       "    }\n",
       "\n",
       "    .dataframe tbody tr th {\n",
       "        vertical-align: top;\n",
       "    }\n",
       "\n",
       "    .dataframe thead th {\n",
       "        text-align: right;\n",
       "    }\n",
       "</style>\n",
       "<table border=\"1\" class=\"dataframe\">\n",
       "  <thead>\n",
       "    <tr style=\"text-align: right;\">\n",
       "      <th></th>\n",
       "      <th>Origin Time</th>\n",
       "      <th>Lat</th>\n",
       "      <th>Long</th>\n",
       "      <th>Depth</th>\n",
       "      <th>Magnitude</th>\n",
       "      <th>Location</th>\n",
       "      <th>Mag</th>\n",
       "      <th>Year</th>\n",
       "      <th>mnth</th>\n",
       "    </tr>\n",
       "  </thead>\n",
       "  <tbody>\n",
       "    <tr>\n",
       "      <th>15</th>\n",
       "      <td>2007-01-29 15:36:57 IST</td>\n",
       "      <td>28.84</td>\n",
       "      <td>76.60</td>\n",
       "      <td>11</td>\n",
       "      <td>1.8[ML]</td>\n",
       "      <td>6km S of Rohtak, Haryana, India</td>\n",
       "      <td>1.8</td>\n",
       "      <td>2007</td>\n",
       "      <td>1</td>\n",
       "    </tr>\n",
       "    <tr>\n",
       "      <th>18</th>\n",
       "      <td>2007-01-30 01:56:00 IST</td>\n",
       "      <td>28.90</td>\n",
       "      <td>76.61</td>\n",
       "      <td>10</td>\n",
       "      <td>2.2[ML]</td>\n",
       "      <td>0km NNE of Rohtak, Haryana, India</td>\n",
       "      <td>2.2</td>\n",
       "      <td>2007</td>\n",
       "      <td>1</td>\n",
       "    </tr>\n",
       "    <tr>\n",
       "      <th>19</th>\n",
       "      <td>2007-01-30 02:22:38 IST</td>\n",
       "      <td>28.83</td>\n",
       "      <td>76.61</td>\n",
       "      <td>12</td>\n",
       "      <td>2.1[ML]</td>\n",
       "      <td>7km S of Rohtak, Haryana, India</td>\n",
       "      <td>2.1</td>\n",
       "      <td>2007</td>\n",
       "      <td>1</td>\n",
       "    </tr>\n",
       "    <tr>\n",
       "      <th>22</th>\n",
       "      <td>2007-01-30 19:24:45 IST</td>\n",
       "      <td>29.30</td>\n",
       "      <td>77.61</td>\n",
       "      <td>33</td>\n",
       "      <td>2.2[ML]</td>\n",
       "      <td>86km NNE of New Delhi, India</td>\n",
       "      <td>2.2</td>\n",
       "      <td>2007</td>\n",
       "      <td>1</td>\n",
       "    </tr>\n",
       "    <tr>\n",
       "      <th>52</th>\n",
       "      <td>2007-02-08 11:57:25 IST</td>\n",
       "      <td>28.92</td>\n",
       "      <td>76.72</td>\n",
       "      <td>15</td>\n",
       "      <td>2.2[ML]</td>\n",
       "      <td>11km ENE of Rohtak, Haryana, India</td>\n",
       "      <td>2.2</td>\n",
       "      <td>2007</td>\n",
       "      <td>2</td>\n",
       "    </tr>\n",
       "  </tbody>\n",
       "</table>\n",
       "</div>"
      ],
      "text/plain": [
       "                Origin Time    Lat   Long  Depth Magnitude  \\\n",
       "15  2007-01-29 15:36:57 IST  28.84  76.60     11   1.8[ML]   \n",
       "18  2007-01-30 01:56:00 IST  28.90  76.61     10   2.2[ML]   \n",
       "19  2007-01-30 02:22:38 IST  28.83  76.61     12   2.1[ML]   \n",
       "22  2007-01-30 19:24:45 IST  29.30  77.61     33   2.2[ML]   \n",
       "52  2007-02-08 11:57:25 IST  28.92  76.72     15   2.2[ML]   \n",
       "\n",
       "                              Location  Mag  Year  mnth  \n",
       "15     6km S of Rohtak, Haryana, India  1.8  2007     1  \n",
       "18   0km NNE of Rohtak, Haryana, India  2.2  2007     1  \n",
       "19     7km S of Rohtak, Haryana, India  2.1  2007     1  \n",
       "22        86km NNE of New Delhi, India  2.2  2007     1  \n",
       "52  11km ENE of Rohtak, Haryana, India  2.2  2007     2  "
      ]
     },
     "execution_count": 139,
     "metadata": {},
     "output_type": "execute_result"
    }
   ],
   "source": [
    "data_ncr.head()"
   ]
  },
  {
   "cell_type": "code",
   "execution_count": 144,
   "metadata": {},
   "outputs": [],
   "source": [
    "dd = data_ncr.groupby(['Year','mnth']).Mag.max()"
   ]
  },
  {
   "cell_type": "code",
   "execution_count": 145,
   "metadata": {},
   "outputs": [
    {
     "data": {
      "text/plain": [
       "Year  mnth\n",
       "2007  1       2.2\n",
       "      2       2.5\n",
       "      3       3.4\n",
       "      4       2.8\n",
       "      5       3.2\n",
       "             ... \n",
       "2018  7       3.8\n",
       "      9       3.9\n",
       "      12      2.6\n",
       "2019  2       3.8\n",
       "      3       3.8\n",
       "Name: Mag, Length: 115, dtype: float64"
      ]
     },
     "execution_count": 145,
     "metadata": {},
     "output_type": "execute_result"
    }
   ],
   "source": [
    "dd"
   ]
  },
  {
   "cell_type": "code",
   "execution_count": null,
   "metadata": {},
   "outputs": [],
   "source": []
  },
  {
   "cell_type": "code",
   "execution_count": 148,
   "metadata": {},
   "outputs": [
    {
     "name": "stderr",
     "output_type": "stream",
     "text": [
      "C:\\Users\\shash\\anaconda3\\lib\\site-packages\\ipykernel_launcher.py:1: SettingWithCopyWarning: \n",
      "A value is trying to be set on a copy of a slice from a DataFrame.\n",
      "Try using .loc[row_indexer,col_indexer] = value instead\n",
      "\n",
      "See the caveats in the documentation: https://pandas.pydata.org/pandas-docs/stable/user_guide/indexing.html#returning-a-view-versus-a-copy\n",
      "  \"\"\"Entry point for launching an IPython kernel.\n"
     ]
    }
   ],
   "source": [
    "data_ncr['YrM'] = data_ncr['Origin Time'].str.slice(0,7)"
   ]
  },
  {
   "cell_type": "code",
   "execution_count": 149,
   "metadata": {},
   "outputs": [
    {
     "data": {
      "text/html": [
       "<div>\n",
       "<style scoped>\n",
       "    .dataframe tbody tr th:only-of-type {\n",
       "        vertical-align: middle;\n",
       "    }\n",
       "\n",
       "    .dataframe tbody tr th {\n",
       "        vertical-align: top;\n",
       "    }\n",
       "\n",
       "    .dataframe thead th {\n",
       "        text-align: right;\n",
       "    }\n",
       "</style>\n",
       "<table border=\"1\" class=\"dataframe\">\n",
       "  <thead>\n",
       "    <tr style=\"text-align: right;\">\n",
       "      <th></th>\n",
       "      <th>Origin Time</th>\n",
       "      <th>Lat</th>\n",
       "      <th>Long</th>\n",
       "      <th>Depth</th>\n",
       "      <th>Magnitude</th>\n",
       "      <th>Location</th>\n",
       "      <th>Mag</th>\n",
       "      <th>Year</th>\n",
       "      <th>mnth</th>\n",
       "      <th>YrM</th>\n",
       "    </tr>\n",
       "  </thead>\n",
       "  <tbody>\n",
       "    <tr>\n",
       "      <th>15</th>\n",
       "      <td>2007-01-29 15:36:57 IST</td>\n",
       "      <td>28.84</td>\n",
       "      <td>76.60</td>\n",
       "      <td>11</td>\n",
       "      <td>1.8[ML]</td>\n",
       "      <td>6km S of Rohtak, Haryana, India</td>\n",
       "      <td>1.8</td>\n",
       "      <td>2007</td>\n",
       "      <td>1</td>\n",
       "      <td>2007-01</td>\n",
       "    </tr>\n",
       "    <tr>\n",
       "      <th>18</th>\n",
       "      <td>2007-01-30 01:56:00 IST</td>\n",
       "      <td>28.90</td>\n",
       "      <td>76.61</td>\n",
       "      <td>10</td>\n",
       "      <td>2.2[ML]</td>\n",
       "      <td>0km NNE of Rohtak, Haryana, India</td>\n",
       "      <td>2.2</td>\n",
       "      <td>2007</td>\n",
       "      <td>1</td>\n",
       "      <td>2007-01</td>\n",
       "    </tr>\n",
       "    <tr>\n",
       "      <th>19</th>\n",
       "      <td>2007-01-30 02:22:38 IST</td>\n",
       "      <td>28.83</td>\n",
       "      <td>76.61</td>\n",
       "      <td>12</td>\n",
       "      <td>2.1[ML]</td>\n",
       "      <td>7km S of Rohtak, Haryana, India</td>\n",
       "      <td>2.1</td>\n",
       "      <td>2007</td>\n",
       "      <td>1</td>\n",
       "      <td>2007-01</td>\n",
       "    </tr>\n",
       "    <tr>\n",
       "      <th>22</th>\n",
       "      <td>2007-01-30 19:24:45 IST</td>\n",
       "      <td>29.30</td>\n",
       "      <td>77.61</td>\n",
       "      <td>33</td>\n",
       "      <td>2.2[ML]</td>\n",
       "      <td>86km NNE of New Delhi, India</td>\n",
       "      <td>2.2</td>\n",
       "      <td>2007</td>\n",
       "      <td>1</td>\n",
       "      <td>2007-01</td>\n",
       "    </tr>\n",
       "    <tr>\n",
       "      <th>52</th>\n",
       "      <td>2007-02-08 11:57:25 IST</td>\n",
       "      <td>28.92</td>\n",
       "      <td>76.72</td>\n",
       "      <td>15</td>\n",
       "      <td>2.2[ML]</td>\n",
       "      <td>11km ENE of Rohtak, Haryana, India</td>\n",
       "      <td>2.2</td>\n",
       "      <td>2007</td>\n",
       "      <td>2</td>\n",
       "      <td>2007-02</td>\n",
       "    </tr>\n",
       "  </tbody>\n",
       "</table>\n",
       "</div>"
      ],
      "text/plain": [
       "                Origin Time    Lat   Long  Depth Magnitude  \\\n",
       "15  2007-01-29 15:36:57 IST  28.84  76.60     11   1.8[ML]   \n",
       "18  2007-01-30 01:56:00 IST  28.90  76.61     10   2.2[ML]   \n",
       "19  2007-01-30 02:22:38 IST  28.83  76.61     12   2.1[ML]   \n",
       "22  2007-01-30 19:24:45 IST  29.30  77.61     33   2.2[ML]   \n",
       "52  2007-02-08 11:57:25 IST  28.92  76.72     15   2.2[ML]   \n",
       "\n",
       "                              Location  Mag  Year  mnth      YrM  \n",
       "15     6km S of Rohtak, Haryana, India  1.8  2007     1  2007-01  \n",
       "18   0km NNE of Rohtak, Haryana, India  2.2  2007     1  2007-01  \n",
       "19     7km S of Rohtak, Haryana, India  2.1  2007     1  2007-01  \n",
       "22        86km NNE of New Delhi, India  2.2  2007     1  2007-01  \n",
       "52  11km ENE of Rohtak, Haryana, India  2.2  2007     2  2007-02  "
      ]
     },
     "execution_count": 149,
     "metadata": {},
     "output_type": "execute_result"
    }
   ],
   "source": [
    "data_ncr.head()"
   ]
  },
  {
   "cell_type": "code",
   "execution_count": 172,
   "metadata": {},
   "outputs": [
    {
     "name": "stderr",
     "output_type": "stream",
     "text": [
      "C:\\Users\\shash\\anaconda3\\lib\\site-packages\\ipykernel_launcher.py:2: SettingWithCopyWarning: \n",
      "A value is trying to be set on a copy of a slice from a DataFrame.\n",
      "Try using .loc[row_indexer,col_indexer] = value instead\n",
      "\n",
      "See the caveats in the documentation: https://pandas.pydata.org/pandas-docs/stable/user_guide/indexing.html#returning-a-view-versus-a-copy\n",
      "  \n"
     ]
    }
   ],
   "source": [
    "#data_ncr['YrMn'] = data_ncr[['Year','mnth']].apply(lambda x: ''.join(x.map(str)), axis=1)\n",
    "data_ncr['YrMn'] = data_ncr['YrM'].apply(lambda x: x.replace('-',''))"
   ]
  },
  {
   "cell_type": "code",
   "execution_count": 173,
   "metadata": {},
   "outputs": [
    {
     "data": {
      "text/html": [
       "<div>\n",
       "<style scoped>\n",
       "    .dataframe tbody tr th:only-of-type {\n",
       "        vertical-align: middle;\n",
       "    }\n",
       "\n",
       "    .dataframe tbody tr th {\n",
       "        vertical-align: top;\n",
       "    }\n",
       "\n",
       "    .dataframe thead th {\n",
       "        text-align: right;\n",
       "    }\n",
       "</style>\n",
       "<table border=\"1\" class=\"dataframe\">\n",
       "  <thead>\n",
       "    <tr style=\"text-align: right;\">\n",
       "      <th></th>\n",
       "      <th>Origin Time</th>\n",
       "      <th>Lat</th>\n",
       "      <th>Long</th>\n",
       "      <th>Depth</th>\n",
       "      <th>Magnitude</th>\n",
       "      <th>Location</th>\n",
       "      <th>Mag</th>\n",
       "      <th>Year</th>\n",
       "      <th>mnth</th>\n",
       "      <th>YrM</th>\n",
       "      <th>YrMn</th>\n",
       "    </tr>\n",
       "  </thead>\n",
       "  <tbody>\n",
       "    <tr>\n",
       "      <th>15</th>\n",
       "      <td>2007-01-29 15:36:57 IST</td>\n",
       "      <td>28.84</td>\n",
       "      <td>76.60</td>\n",
       "      <td>11</td>\n",
       "      <td>1.8[ML]</td>\n",
       "      <td>6km S of Rohtak, Haryana, India</td>\n",
       "      <td>1.8</td>\n",
       "      <td>2007</td>\n",
       "      <td>1</td>\n",
       "      <td>2007-01</td>\n",
       "      <td>200701</td>\n",
       "    </tr>\n",
       "    <tr>\n",
       "      <th>18</th>\n",
       "      <td>2007-01-30 01:56:00 IST</td>\n",
       "      <td>28.90</td>\n",
       "      <td>76.61</td>\n",
       "      <td>10</td>\n",
       "      <td>2.2[ML]</td>\n",
       "      <td>0km NNE of Rohtak, Haryana, India</td>\n",
       "      <td>2.2</td>\n",
       "      <td>2007</td>\n",
       "      <td>1</td>\n",
       "      <td>2007-01</td>\n",
       "      <td>200701</td>\n",
       "    </tr>\n",
       "    <tr>\n",
       "      <th>19</th>\n",
       "      <td>2007-01-30 02:22:38 IST</td>\n",
       "      <td>28.83</td>\n",
       "      <td>76.61</td>\n",
       "      <td>12</td>\n",
       "      <td>2.1[ML]</td>\n",
       "      <td>7km S of Rohtak, Haryana, India</td>\n",
       "      <td>2.1</td>\n",
       "      <td>2007</td>\n",
       "      <td>1</td>\n",
       "      <td>2007-01</td>\n",
       "      <td>200701</td>\n",
       "    </tr>\n",
       "    <tr>\n",
       "      <th>22</th>\n",
       "      <td>2007-01-30 19:24:45 IST</td>\n",
       "      <td>29.30</td>\n",
       "      <td>77.61</td>\n",
       "      <td>33</td>\n",
       "      <td>2.2[ML]</td>\n",
       "      <td>86km NNE of New Delhi, India</td>\n",
       "      <td>2.2</td>\n",
       "      <td>2007</td>\n",
       "      <td>1</td>\n",
       "      <td>2007-01</td>\n",
       "      <td>200701</td>\n",
       "    </tr>\n",
       "    <tr>\n",
       "      <th>52</th>\n",
       "      <td>2007-02-08 11:57:25 IST</td>\n",
       "      <td>28.92</td>\n",
       "      <td>76.72</td>\n",
       "      <td>15</td>\n",
       "      <td>2.2[ML]</td>\n",
       "      <td>11km ENE of Rohtak, Haryana, India</td>\n",
       "      <td>2.2</td>\n",
       "      <td>2007</td>\n",
       "      <td>2</td>\n",
       "      <td>2007-02</td>\n",
       "      <td>200702</td>\n",
       "    </tr>\n",
       "  </tbody>\n",
       "</table>\n",
       "</div>"
      ],
      "text/plain": [
       "                Origin Time    Lat   Long  Depth Magnitude  \\\n",
       "15  2007-01-29 15:36:57 IST  28.84  76.60     11   1.8[ML]   \n",
       "18  2007-01-30 01:56:00 IST  28.90  76.61     10   2.2[ML]   \n",
       "19  2007-01-30 02:22:38 IST  28.83  76.61     12   2.1[ML]   \n",
       "22  2007-01-30 19:24:45 IST  29.30  77.61     33   2.2[ML]   \n",
       "52  2007-02-08 11:57:25 IST  28.92  76.72     15   2.2[ML]   \n",
       "\n",
       "                              Location  Mag  Year  mnth      YrM    YrMn  \n",
       "15     6km S of Rohtak, Haryana, India  1.8  2007     1  2007-01  200701  \n",
       "18   0km NNE of Rohtak, Haryana, India  2.2  2007     1  2007-01  200701  \n",
       "19     7km S of Rohtak, Haryana, India  2.1  2007     1  2007-01  200701  \n",
       "22        86km NNE of New Delhi, India  2.2  2007     1  2007-01  200701  \n",
       "52  11km ENE of Rohtak, Haryana, India  2.2  2007     2  2007-02  200702  "
      ]
     },
     "execution_count": 173,
     "metadata": {},
     "output_type": "execute_result"
    }
   ],
   "source": [
    "data_ncr.head()"
   ]
  },
  {
   "cell_type": "code",
   "execution_count": 175,
   "metadata": {},
   "outputs": [],
   "source": [
    "#data_ncr.drop('YrM',axis=1)"
   ]
  },
  {
   "cell_type": "code",
   "execution_count": 177,
   "metadata": {},
   "outputs": [
    {
     "name": "stderr",
     "output_type": "stream",
     "text": [
      "C:\\Users\\shash\\anaconda3\\lib\\site-packages\\ipykernel_launcher.py:1: SettingWithCopyWarning: \n",
      "A value is trying to be set on a copy of a slice from a DataFrame.\n",
      "Try using .loc[row_indexer,col_indexer] = value instead\n",
      "\n",
      "See the caveats in the documentation: https://pandas.pydata.org/pandas-docs/stable/user_guide/indexing.html#returning-a-view-versus-a-copy\n",
      "  \"\"\"Entry point for launching an IPython kernel.\n"
     ]
    }
   ],
   "source": [
    "data_ncr['YrMi'] = data_ncr['Origin Time'].str.slice(0,7).apply(lambda x: x.replace('-',''))"
   ]
  },
  {
   "cell_type": "code",
   "execution_count": 184,
   "metadata": {},
   "outputs": [],
   "source": [
    "#data_ncr.head()\n",
    "data_ncr = data_ncr.drop(['YrM','YrMi'],axis=1)"
   ]
  },
  {
   "cell_type": "code",
   "execution_count": 185,
   "metadata": {},
   "outputs": [
    {
     "data": {
      "text/html": [
       "<div>\n",
       "<style scoped>\n",
       "    .dataframe tbody tr th:only-of-type {\n",
       "        vertical-align: middle;\n",
       "    }\n",
       "\n",
       "    .dataframe tbody tr th {\n",
       "        vertical-align: top;\n",
       "    }\n",
       "\n",
       "    .dataframe thead th {\n",
       "        text-align: right;\n",
       "    }\n",
       "</style>\n",
       "<table border=\"1\" class=\"dataframe\">\n",
       "  <thead>\n",
       "    <tr style=\"text-align: right;\">\n",
       "      <th></th>\n",
       "      <th>Origin Time</th>\n",
       "      <th>Lat</th>\n",
       "      <th>Long</th>\n",
       "      <th>Depth</th>\n",
       "      <th>Magnitude</th>\n",
       "      <th>Location</th>\n",
       "      <th>Mag</th>\n",
       "      <th>Year</th>\n",
       "      <th>mnth</th>\n",
       "      <th>YrMn</th>\n",
       "    </tr>\n",
       "  </thead>\n",
       "  <tbody>\n",
       "    <tr>\n",
       "      <th>15</th>\n",
       "      <td>2007-01-29 15:36:57 IST</td>\n",
       "      <td>28.84</td>\n",
       "      <td>76.60</td>\n",
       "      <td>11</td>\n",
       "      <td>1.8[ML]</td>\n",
       "      <td>6km S of Rohtak, Haryana, India</td>\n",
       "      <td>1.8</td>\n",
       "      <td>2007</td>\n",
       "      <td>1</td>\n",
       "      <td>200701</td>\n",
       "    </tr>\n",
       "    <tr>\n",
       "      <th>18</th>\n",
       "      <td>2007-01-30 01:56:00 IST</td>\n",
       "      <td>28.90</td>\n",
       "      <td>76.61</td>\n",
       "      <td>10</td>\n",
       "      <td>2.2[ML]</td>\n",
       "      <td>0km NNE of Rohtak, Haryana, India</td>\n",
       "      <td>2.2</td>\n",
       "      <td>2007</td>\n",
       "      <td>1</td>\n",
       "      <td>200701</td>\n",
       "    </tr>\n",
       "    <tr>\n",
       "      <th>19</th>\n",
       "      <td>2007-01-30 02:22:38 IST</td>\n",
       "      <td>28.83</td>\n",
       "      <td>76.61</td>\n",
       "      <td>12</td>\n",
       "      <td>2.1[ML]</td>\n",
       "      <td>7km S of Rohtak, Haryana, India</td>\n",
       "      <td>2.1</td>\n",
       "      <td>2007</td>\n",
       "      <td>1</td>\n",
       "      <td>200701</td>\n",
       "    </tr>\n",
       "    <tr>\n",
       "      <th>22</th>\n",
       "      <td>2007-01-30 19:24:45 IST</td>\n",
       "      <td>29.30</td>\n",
       "      <td>77.61</td>\n",
       "      <td>33</td>\n",
       "      <td>2.2[ML]</td>\n",
       "      <td>86km NNE of New Delhi, India</td>\n",
       "      <td>2.2</td>\n",
       "      <td>2007</td>\n",
       "      <td>1</td>\n",
       "      <td>200701</td>\n",
       "    </tr>\n",
       "    <tr>\n",
       "      <th>52</th>\n",
       "      <td>2007-02-08 11:57:25 IST</td>\n",
       "      <td>28.92</td>\n",
       "      <td>76.72</td>\n",
       "      <td>15</td>\n",
       "      <td>2.2[ML]</td>\n",
       "      <td>11km ENE of Rohtak, Haryana, India</td>\n",
       "      <td>2.2</td>\n",
       "      <td>2007</td>\n",
       "      <td>2</td>\n",
       "      <td>200702</td>\n",
       "    </tr>\n",
       "  </tbody>\n",
       "</table>\n",
       "</div>"
      ],
      "text/plain": [
       "                Origin Time    Lat   Long  Depth Magnitude  \\\n",
       "15  2007-01-29 15:36:57 IST  28.84  76.60     11   1.8[ML]   \n",
       "18  2007-01-30 01:56:00 IST  28.90  76.61     10   2.2[ML]   \n",
       "19  2007-01-30 02:22:38 IST  28.83  76.61     12   2.1[ML]   \n",
       "22  2007-01-30 19:24:45 IST  29.30  77.61     33   2.2[ML]   \n",
       "52  2007-02-08 11:57:25 IST  28.92  76.72     15   2.2[ML]   \n",
       "\n",
       "                              Location  Mag  Year  mnth    YrMn  \n",
       "15     6km S of Rohtak, Haryana, India  1.8  2007     1  200701  \n",
       "18   0km NNE of Rohtak, Haryana, India  2.2  2007     1  200701  \n",
       "19     7km S of Rohtak, Haryana, India  2.1  2007     1  200701  \n",
       "22        86km NNE of New Delhi, India  2.2  2007     1  200701  \n",
       "52  11km ENE of Rohtak, Haryana, India  2.2  2007     2  200702  "
      ]
     },
     "execution_count": 185,
     "metadata": {},
     "output_type": "execute_result"
    }
   ],
   "source": [
    "data_ncr.head()"
   ]
  },
  {
   "cell_type": "code",
   "execution_count": 186,
   "metadata": {},
   "outputs": [
    {
     "data": {
      "text/plain": [
       "<matplotlib.collections.PathCollection at 0x1e12dbda948>"
      ]
     },
     "execution_count": 186,
     "metadata": {},
     "output_type": "execute_result"
    },
    {
     "data": {
      "image/png": "[encoded data removed]",
      "text/plain": [
       "<Figure size 1152x432 with 1 Axes>"
      ]
     },
     "metadata": {
      "needs_background": "light"
     },
     "output_type": "display_data"
    }
   ],
   "source": [
    "plt.figure(figsize=(16,6))\n",
    "plt.scatter(data_ncr.YrMn.unique(),data_ncr.groupby('YrMn').Mag.max())"
   ]
  },
  {
   "cell_type": "code",
   "execution_count": 189,
   "metadata": {},
   "outputs": [
    {
     "data": {
      "text/html": [
       "<div>\n",
       "<style scoped>\n",
       "    .dataframe tbody tr th:only-of-type {\n",
       "        vertical-align: middle;\n",
       "    }\n",
       "\n",
       "    .dataframe tbody tr th {\n",
       "        vertical-align: top;\n",
       "    }\n",
       "\n",
       "    .dataframe thead th {\n",
       "        text-align: right;\n",
       "    }\n",
       "</style>\n",
       "<table border=\"1\" class=\"dataframe\">\n",
       "  <thead>\n",
       "    <tr style=\"text-align: right;\">\n",
       "      <th></th>\n",
       "      <th>Origin Time</th>\n",
       "      <th>Lat</th>\n",
       "      <th>Long</th>\n",
       "      <th>Depth</th>\n",
       "      <th>Magnitude</th>\n",
       "      <th>Location</th>\n",
       "    </tr>\n",
       "  </thead>\n",
       "  <tbody>\n",
       "    <tr>\n",
       "      <th>0</th>\n",
       "      <td>2007-01-23 19:03:47 IST</td>\n",
       "      <td>35.50</td>\n",
       "      <td>73.37</td>\n",
       "      <td>33</td>\n",
       "      <td>3.7[ML]</td>\n",
       "      <td>185km NNW of Gulmarg, Jammu and Kashmir, India</td>\n",
       "    </tr>\n",
       "    <tr>\n",
       "      <th>1</th>\n",
       "      <td>2007-01-23 19:16:16 IST</td>\n",
       "      <td>38.40</td>\n",
       "      <td>72.72</td>\n",
       "      <td>96</td>\n",
       "      <td>4.1[ML]</td>\n",
       "      <td>342km E of Dushanbe, Tajikistan</td>\n",
       "    </tr>\n",
       "    <tr>\n",
       "      <th>2</th>\n",
       "      <td>2007-01-24 10:35:34 IST</td>\n",
       "      <td>22.82</td>\n",
       "      <td>68.97</td>\n",
       "      <td>14</td>\n",
       "      <td>2.9[ML]</td>\n",
       "      <td>64km N of Dwarka, Gujarat, India</td>\n",
       "    </tr>\n",
       "    <tr>\n",
       "      <th>3</th>\n",
       "      <td>2007-01-24 15:59:24 IST</td>\n",
       "      <td>25.95</td>\n",
       "      <td>90.27</td>\n",
       "      <td>15</td>\n",
       "      <td>4.0[ML]</td>\n",
       "      <td>48km N of Tura, Meghalaya, India</td>\n",
       "    </tr>\n",
       "    <tr>\n",
       "      <th>4</th>\n",
       "      <td>2007-01-24 16:33:31 IST</td>\n",
       "      <td>24.97</td>\n",
       "      <td>94.28</td>\n",
       "      <td>38</td>\n",
       "      <td>4.7[MB]</td>\n",
       "      <td>20km W of Ukhrul, Manipur, India</td>\n",
       "    </tr>\n",
       "  </tbody>\n",
       "</table>\n",
       "</div>"
      ],
      "text/plain": [
       "               Origin Time    Lat   Long  Depth Magnitude  \\\n",
       "0  2007-01-23 19:03:47 IST  35.50  73.37     33   3.7[ML]   \n",
       "1  2007-01-23 19:16:16 IST  38.40  72.72     96   4.1[ML]   \n",
       "2  2007-01-24 10:35:34 IST  22.82  68.97     14   2.9[ML]   \n",
       "3  2007-01-24 15:59:24 IST  25.95  90.27     15   4.0[ML]   \n",
       "4  2007-01-24 16:33:31 IST  24.97  94.28     38   4.7[MB]   \n",
       "\n",
       "                                         Location  \n",
       "0  185km NNW of Gulmarg, Jammu and Kashmir, India  \n",
       "1                 342km E of Dushanbe, Tajikistan  \n",
       "2                64km N of Dwarka, Gujarat, India  \n",
       "3                48km N of Tura, Meghalaya, India  \n",
       "4                20km W of Ukhrul, Manipur, India  "
      ]
     },
     "execution_count": 189,
     "metadata": {},
     "output_type": "execute_result"
    }
   ],
   "source": [
    "data.head()"
   ]
  },
  {
   "cell_type": "code",
   "execution_count": 204,
   "metadata": {},
   "outputs": [],
   "source": [
    "data_lo_del = data_lo[data_lo.Location.str.contains('Delhi')]"
   ]
  },
  {
   "cell_type": "code",
   "execution_count": 205,
   "metadata": {},
   "outputs": [
    {
     "data": {
      "text/html": [
       "<div>\n",
       "<style scoped>\n",
       "    .dataframe tbody tr th:only-of-type {\n",
       "        vertical-align: middle;\n",
       "    }\n",
       "\n",
       "    .dataframe tbody tr th {\n",
       "        vertical-align: top;\n",
       "    }\n",
       "\n",
       "    .dataframe thead th {\n",
       "        text-align: right;\n",
       "    }\n",
       "</style>\n",
       "<table border=\"1\" class=\"dataframe\">\n",
       "  <thead>\n",
       "    <tr style=\"text-align: right;\">\n",
       "      <th></th>\n",
       "      <th>Origin Time</th>\n",
       "      <th>Lat</th>\n",
       "      <th>Long</th>\n",
       "      <th>Depth</th>\n",
       "      <th>Magnitude</th>\n",
       "      <th>Location</th>\n",
       "      <th>Mag</th>\n",
       "    </tr>\n",
       "  </thead>\n",
       "  <tbody>\n",
       "    <tr>\n",
       "      <th>22</th>\n",
       "      <td>2007-01-30 19:24:45 IST</td>\n",
       "      <td>29.30</td>\n",
       "      <td>77.61</td>\n",
       "      <td>33</td>\n",
       "      <td>2.2[ML]</td>\n",
       "      <td>86km NNE of New Delhi, India</td>\n",
       "      <td>2.2</td>\n",
       "    </tr>\n",
       "    <tr>\n",
       "      <th>69</th>\n",
       "      <td>2007-02-13 08:59:30 IST</td>\n",
       "      <td>28.70</td>\n",
       "      <td>76.99</td>\n",
       "      <td>21</td>\n",
       "      <td>1.9[ML]</td>\n",
       "      <td>22km WNW of New Delhi, India</td>\n",
       "      <td>1.9</td>\n",
       "    </tr>\n",
       "    <tr>\n",
       "      <th>71</th>\n",
       "      <td>2007-02-14 11:30:08 IST</td>\n",
       "      <td>28.62</td>\n",
       "      <td>77.22</td>\n",
       "      <td>19</td>\n",
       "      <td>2.1[ML]</td>\n",
       "      <td>1km ENE of New Delhi, India</td>\n",
       "      <td>2.1</td>\n",
       "    </tr>\n",
       "    <tr>\n",
       "      <th>119</th>\n",
       "      <td>2007-02-28 02:07:58 IST</td>\n",
       "      <td>29.24</td>\n",
       "      <td>77.26</td>\n",
       "      <td>10</td>\n",
       "      <td>2.5[ML]</td>\n",
       "      <td>69km N of New Delhi, India</td>\n",
       "      <td>2.5</td>\n",
       "    </tr>\n",
       "    <tr>\n",
       "      <th>161</th>\n",
       "      <td>2007-03-14 03:09:13 IST</td>\n",
       "      <td>28.64</td>\n",
       "      <td>77.22</td>\n",
       "      <td>9</td>\n",
       "      <td>2.3[ML]</td>\n",
       "      <td>3km NNE of New Delhi, India</td>\n",
       "      <td>2.3</td>\n",
       "    </tr>\n",
       "  </tbody>\n",
       "</table>\n",
       "</div>"
      ],
      "text/plain": [
       "                 Origin Time    Lat   Long  Depth Magnitude  \\\n",
       "22   2007-01-30 19:24:45 IST  29.30  77.61     33   2.2[ML]   \n",
       "69   2007-02-13 08:59:30 IST  28.70  76.99     21   1.9[ML]   \n",
       "71   2007-02-14 11:30:08 IST  28.62  77.22     19   2.1[ML]   \n",
       "119  2007-02-28 02:07:58 IST  29.24  77.26     10   2.5[ML]   \n",
       "161  2007-03-14 03:09:13 IST  28.64  77.22      9   2.3[ML]   \n",
       "\n",
       "                         Location  Mag  \n",
       "22   86km NNE of New Delhi, India  2.2  \n",
       "69   22km WNW of New Delhi, India  1.9  \n",
       "71    1km ENE of New Delhi, India  2.1  \n",
       "119    69km N of New Delhi, India  2.5  \n",
       "161   3km NNE of New Delhi, India  2.3  "
      ]
     },
     "execution_count": 205,
     "metadata": {},
     "output_type": "execute_result"
    }
   ],
   "source": [
    "data_lo_del.head()"
   ]
  },
  {
   "cell_type": "code",
   "execution_count": 206,
   "metadata": {},
   "outputs": [
    {
     "data": {
      "text/plain": [
       "(86, 6)"
      ]
     },
     "execution_count": 206,
     "metadata": {},
     "output_type": "execute_result"
    }
   ],
   "source": [
    "data_del.shape"
   ]
  },
  {
   "cell_type": "code",
   "execution_count": 207,
   "metadata": {},
   "outputs": [
    {
     "name": "stderr",
     "output_type": "stream",
     "text": [
      "C:\\Users\\shash\\anaconda3\\lib\\site-packages\\ipykernel_launcher.py:1: SettingWithCopyWarning: \n",
      "A value is trying to be set on a copy of a slice from a DataFrame.\n",
      "Try using .loc[row_indexer,col_indexer] = value instead\n",
      "\n",
      "See the caveats in the documentation: https://pandas.pydata.org/pandas-docs/stable/user_guide/indexing.html#returning-a-view-versus-a-copy\n",
      "  \"\"\"Entry point for launching an IPython kernel.\n"
     ]
    }
   ],
   "source": [
    "data_lo_del['YrMn'] = data_lo_del['Origin Time'].str.slice(0,7,1).apply(lambda x: x.replace('-',''))"
   ]
  },
  {
   "cell_type": "code",
   "execution_count": 208,
   "metadata": {},
   "outputs": [
    {
     "data": {
      "text/html": [
       "<div>\n",
       "<style scoped>\n",
       "    .dataframe tbody tr th:only-of-type {\n",
       "        vertical-align: middle;\n",
       "    }\n",
       "\n",
       "    .dataframe tbody tr th {\n",
       "        vertical-align: top;\n",
       "    }\n",
       "\n",
       "    .dataframe thead th {\n",
       "        text-align: right;\n",
       "    }\n",
       "</style>\n",
       "<table border=\"1\" class=\"dataframe\">\n",
       "  <thead>\n",
       "    <tr style=\"text-align: right;\">\n",
       "      <th></th>\n",
       "      <th>Origin Time</th>\n",
       "      <th>Lat</th>\n",
       "      <th>Long</th>\n",
       "      <th>Depth</th>\n",
       "      <th>Magnitude</th>\n",
       "      <th>Location</th>\n",
       "      <th>Mag</th>\n",
       "      <th>YrMn</th>\n",
       "    </tr>\n",
       "  </thead>\n",
       "  <tbody>\n",
       "    <tr>\n",
       "      <th>22</th>\n",
       "      <td>2007-01-30 19:24:45 IST</td>\n",
       "      <td>29.30</td>\n",
       "      <td>77.61</td>\n",
       "      <td>33</td>\n",
       "      <td>2.2[ML]</td>\n",
       "      <td>86km NNE of New Delhi, India</td>\n",
       "      <td>2.2</td>\n",
       "      <td>200701</td>\n",
       "    </tr>\n",
       "    <tr>\n",
       "      <th>69</th>\n",
       "      <td>2007-02-13 08:59:30 IST</td>\n",
       "      <td>28.70</td>\n",
       "      <td>76.99</td>\n",
       "      <td>21</td>\n",
       "      <td>1.9[ML]</td>\n",
       "      <td>22km WNW of New Delhi, India</td>\n",
       "      <td>1.9</td>\n",
       "      <td>200702</td>\n",
       "    </tr>\n",
       "    <tr>\n",
       "      <th>71</th>\n",
       "      <td>2007-02-14 11:30:08 IST</td>\n",
       "      <td>28.62</td>\n",
       "      <td>77.22</td>\n",
       "      <td>19</td>\n",
       "      <td>2.1[ML]</td>\n",
       "      <td>1km ENE of New Delhi, India</td>\n",
       "      <td>2.1</td>\n",
       "      <td>200702</td>\n",
       "    </tr>\n",
       "    <tr>\n",
       "      <th>119</th>\n",
       "      <td>2007-02-28 02:07:58 IST</td>\n",
       "      <td>29.24</td>\n",
       "      <td>77.26</td>\n",
       "      <td>10</td>\n",
       "      <td>2.5[ML]</td>\n",
       "      <td>69km N of New Delhi, India</td>\n",
       "      <td>2.5</td>\n",
       "      <td>200702</td>\n",
       "    </tr>\n",
       "    <tr>\n",
       "      <th>161</th>\n",
       "      <td>2007-03-14 03:09:13 IST</td>\n",
       "      <td>28.64</td>\n",
       "      <td>77.22</td>\n",
       "      <td>9</td>\n",
       "      <td>2.3[ML]</td>\n",
       "      <td>3km NNE of New Delhi, India</td>\n",
       "      <td>2.3</td>\n",
       "      <td>200703</td>\n",
       "    </tr>\n",
       "  </tbody>\n",
       "</table>\n",
       "</div>"
      ],
      "text/plain": [
       "                 Origin Time    Lat   Long  Depth Magnitude  \\\n",
       "22   2007-01-30 19:24:45 IST  29.30  77.61     33   2.2[ML]   \n",
       "69   2007-02-13 08:59:30 IST  28.70  76.99     21   1.9[ML]   \n",
       "71   2007-02-14 11:30:08 IST  28.62  77.22     19   2.1[ML]   \n",
       "119  2007-02-28 02:07:58 IST  29.24  77.26     10   2.5[ML]   \n",
       "161  2007-03-14 03:09:13 IST  28.64  77.22      9   2.3[ML]   \n",
       "\n",
       "                         Location  Mag    YrMn  \n",
       "22   86km NNE of New Delhi, India  2.2  200701  \n",
       "69   22km WNW of New Delhi, India  1.9  200702  \n",
       "71    1km ENE of New Delhi, India  2.1  200702  \n",
       "119    69km N of New Delhi, India  2.5  200702  \n",
       "161   3km NNE of New Delhi, India  2.3  200703  "
      ]
     },
     "execution_count": 208,
     "metadata": {},
     "output_type": "execute_result"
    }
   ],
   "source": [
    "data_lo_del.head()"
   ]
  },
  {
   "cell_type": "code",
   "execution_count": 211,
   "metadata": {},
   "outputs": [
    {
     "data": {
      "text/plain": [
       "<matplotlib.collections.PathCollection at 0x1e12d107dc8>"
      ]
     },
     "execution_count": 211,
     "metadata": {},
     "output_type": "execute_result"
    },
    {
     "data": {
      "image/png": "[encoded data removed]",
      "text/plain": [
       "<Figure size 1152x432 with 1 Axes>"
      ]
     },
     "metadata": {
      "needs_background": "light"
     },
     "output_type": "display_data"
    }
   ],
   "source": [
    "plt.figure(figsize=(16,6))\n",
    "plt.scatter(data_lo_del.YrMn.unique(),data_lo_del.groupby('YrMn').Mag.max())"
   ]
  },
  {
   "cell_type": "code",
   "execution_count": 215,
   "metadata": {},
   "outputs": [
    {
     "data": {
      "text/plain": [
       "201311    16\n",
       "201109     4\n",
       "200704     3\n",
       "200702     3\n",
       "201505     2\n",
       "Name: YrMn, dtype: int64"
      ]
     },
     "execution_count": 215,
     "metadata": {},
     "output_type": "execute_result"
    }
   ],
   "source": [
    "data_lo_del.YrMn.value_counts().sort_values(ascending=False).head()"
   ]
  },
  {
   "cell_type": "code",
   "execution_count": 219,
   "metadata": {},
   "outputs": [],
   "source": [
    "data_lo_del_max = data_lo_del[data_lo_del['Origin Time'].str.contains(\"2013-11-12\")]"
   ]
  },
  {
   "cell_type": "code",
   "execution_count": 220,
   "metadata": {},
   "outputs": [
    {
     "data": {
      "text/html": [
       "<div>\n",
       "<style scoped>\n",
       "    .dataframe tbody tr th:only-of-type {\n",
       "        vertical-align: middle;\n",
       "    }\n",
       "\n",
       "    .dataframe tbody tr th {\n",
       "        vertical-align: top;\n",
       "    }\n",
       "\n",
       "    .dataframe thead th {\n",
       "        text-align: right;\n",
       "    }\n",
       "</style>\n",
       "<table border=\"1\" class=\"dataframe\">\n",
       "  <thead>\n",
       "    <tr style=\"text-align: right;\">\n",
       "      <th></th>\n",
       "      <th>Origin Time</th>\n",
       "      <th>Lat</th>\n",
       "      <th>Long</th>\n",
       "      <th>Depth</th>\n",
       "      <th>Magnitude</th>\n",
       "      <th>Location</th>\n",
       "      <th>Mag</th>\n",
       "      <th>YrMn</th>\n",
       "    </tr>\n",
       "  </thead>\n",
       "  <tbody>\n",
       "    <tr>\n",
       "      <th>5853</th>\n",
       "      <td>2013-11-12 00:41:19 IST</td>\n",
       "      <td>28.59</td>\n",
       "      <td>77.10</td>\n",
       "      <td>13</td>\n",
       "      <td>3.1[ML]</td>\n",
       "      <td>10km WSW of New Delhi, India</td>\n",
       "      <td>3.1</td>\n",
       "      <td>201311</td>\n",
       "    </tr>\n",
       "    <tr>\n",
       "      <th>5854</th>\n",
       "      <td>2013-11-12 00:42:34 IST</td>\n",
       "      <td>28.62</td>\n",
       "      <td>77.22</td>\n",
       "      <td>13</td>\n",
       "      <td>2.9[ML]</td>\n",
       "      <td>1km ENE of New Delhi, India</td>\n",
       "      <td>2.9</td>\n",
       "      <td>201311</td>\n",
       "    </tr>\n",
       "    <tr>\n",
       "      <th>5855</th>\n",
       "      <td>2013-11-12 01:07:17 IST</td>\n",
       "      <td>28.62</td>\n",
       "      <td>77.20</td>\n",
       "      <td>13</td>\n",
       "      <td>2.6[ML]</td>\n",
       "      <td>0km NNW of New Delhi, India</td>\n",
       "      <td>2.6</td>\n",
       "      <td>201311</td>\n",
       "    </tr>\n",
       "    <tr>\n",
       "      <th>5856</th>\n",
       "      <td>2013-11-12 01:41:33 IST</td>\n",
       "      <td>28.62</td>\n",
       "      <td>77.20</td>\n",
       "      <td>14</td>\n",
       "      <td>3.3[ML]</td>\n",
       "      <td>0km NNW of New Delhi, India</td>\n",
       "      <td>3.3</td>\n",
       "      <td>201311</td>\n",
       "    </tr>\n",
       "    <tr>\n",
       "      <th>5857</th>\n",
       "      <td>2013-11-12 01:55:08 IST</td>\n",
       "      <td>28.63</td>\n",
       "      <td>77.23</td>\n",
       "      <td>16</td>\n",
       "      <td>2.6[ML]</td>\n",
       "      <td>3km NE of New Delhi, India</td>\n",
       "      <td>2.6</td>\n",
       "      <td>201311</td>\n",
       "    </tr>\n",
       "    <tr>\n",
       "      <th>5858</th>\n",
       "      <td>2013-11-12 01:55:08 IST</td>\n",
       "      <td>28.61</td>\n",
       "      <td>77.25</td>\n",
       "      <td>15</td>\n",
       "      <td>2.6[ML]</td>\n",
       "      <td>4km E of New Delhi, India</td>\n",
       "      <td>2.6</td>\n",
       "      <td>201311</td>\n",
       "    </tr>\n",
       "    <tr>\n",
       "      <th>5859</th>\n",
       "      <td>2013-11-12 01:59:33 IST</td>\n",
       "      <td>28.61</td>\n",
       "      <td>77.18</td>\n",
       "      <td>12</td>\n",
       "      <td>1.9[ML]</td>\n",
       "      <td>2km WSW of New Delhi, India</td>\n",
       "      <td>1.9</td>\n",
       "      <td>201311</td>\n",
       "    </tr>\n",
       "    <tr>\n",
       "      <th>5860</th>\n",
       "      <td>2013-11-12 02:03:43 IST</td>\n",
       "      <td>28.66</td>\n",
       "      <td>77.12</td>\n",
       "      <td>12</td>\n",
       "      <td>1.9[ML]</td>\n",
       "      <td>9km WNW of New Delhi, India</td>\n",
       "      <td>1.9</td>\n",
       "      <td>201311</td>\n",
       "    </tr>\n",
       "    <tr>\n",
       "      <th>5861</th>\n",
       "      <td>2013-11-12 02:09:43 IST</td>\n",
       "      <td>28.61</td>\n",
       "      <td>77.22</td>\n",
       "      <td>13</td>\n",
       "      <td>2.0[ML]</td>\n",
       "      <td>1km ESE of New Delhi, India</td>\n",
       "      <td>2.0</td>\n",
       "      <td>201311</td>\n",
       "    </tr>\n",
       "    <tr>\n",
       "      <th>5862</th>\n",
       "      <td>2013-11-12 02:10:24 IST</td>\n",
       "      <td>28.63</td>\n",
       "      <td>77.16</td>\n",
       "      <td>9</td>\n",
       "      <td>1.8[ML]</td>\n",
       "      <td>4km WNW of New Delhi, India</td>\n",
       "      <td>1.8</td>\n",
       "      <td>201311</td>\n",
       "    </tr>\n",
       "    <tr>\n",
       "      <th>5863</th>\n",
       "      <td>2013-11-12 02:33:43 IST</td>\n",
       "      <td>28.61</td>\n",
       "      <td>77.24</td>\n",
       "      <td>13</td>\n",
       "      <td>2.3[ML]</td>\n",
       "      <td>3km E of New Delhi, India</td>\n",
       "      <td>2.3</td>\n",
       "      <td>201311</td>\n",
       "    </tr>\n",
       "    <tr>\n",
       "      <th>5864</th>\n",
       "      <td>2013-11-12 02:45:34 IST</td>\n",
       "      <td>28.62</td>\n",
       "      <td>77.23</td>\n",
       "      <td>13</td>\n",
       "      <td>2.5[ML]</td>\n",
       "      <td>2km ENE of New Delhi, India</td>\n",
       "      <td>2.5</td>\n",
       "      <td>201311</td>\n",
       "    </tr>\n",
       "    <tr>\n",
       "      <th>5865</th>\n",
       "      <td>2013-11-12 03:40:45 IST</td>\n",
       "      <td>28.66</td>\n",
       "      <td>77.13</td>\n",
       "      <td>12</td>\n",
       "      <td>2.9[ML]</td>\n",
       "      <td>8km NW of New Delhi, India</td>\n",
       "      <td>2.9</td>\n",
       "      <td>201311</td>\n",
       "    </tr>\n",
       "    <tr>\n",
       "      <th>5866</th>\n",
       "      <td>2013-11-12 04:55:39 IST</td>\n",
       "      <td>28.64</td>\n",
       "      <td>77.15</td>\n",
       "      <td>11</td>\n",
       "      <td>2.1[ML]</td>\n",
       "      <td>5km WNW of New Delhi, India</td>\n",
       "      <td>2.1</td>\n",
       "      <td>201311</td>\n",
       "    </tr>\n",
       "  </tbody>\n",
       "</table>\n",
       "</div>"
      ],
      "text/plain": [
       "                  Origin Time    Lat   Long  Depth Magnitude  \\\n",
       "5853  2013-11-12 00:41:19 IST  28.59  77.10     13   3.1[ML]   \n",
       "5854  2013-11-12 00:42:34 IST  28.62  77.22     13   2.9[ML]   \n",
       "5855  2013-11-12 01:07:17 IST  28.62  77.20     13   2.6[ML]   \n",
       "5856  2013-11-12 01:41:33 IST  28.62  77.20     14   3.3[ML]   \n",
       "5857  2013-11-12 01:55:08 IST  28.63  77.23     16   2.6[ML]   \n",
       "5858  2013-11-12 01:55:08 IST  28.61  77.25     15   2.6[ML]   \n",
       "5859  2013-11-12 01:59:33 IST  28.61  77.18     12   1.9[ML]   \n",
       "5860  2013-11-12 02:03:43 IST  28.66  77.12     12   1.9[ML]   \n",
       "5861  2013-11-12 02:09:43 IST  28.61  77.22     13   2.0[ML]   \n",
       "5862  2013-11-12 02:10:24 IST  28.63  77.16      9   1.8[ML]   \n",
       "5863  2013-11-12 02:33:43 IST  28.61  77.24     13   2.3[ML]   \n",
       "5864  2013-11-12 02:45:34 IST  28.62  77.23     13   2.5[ML]   \n",
       "5865  2013-11-12 03:40:45 IST  28.66  77.13     12   2.9[ML]   \n",
       "5866  2013-11-12 04:55:39 IST  28.64  77.15     11   2.1[ML]   \n",
       "\n",
       "                          Location  Mag    YrMn  \n",
       "5853  10km WSW of New Delhi, India  3.1  201311  \n",
       "5854   1km ENE of New Delhi, India  2.9  201311  \n",
       "5855   0km NNW of New Delhi, India  2.6  201311  \n",
       "5856   0km NNW of New Delhi, India  3.3  201311  \n",
       "5857    3km NE of New Delhi, India  2.6  201311  \n",
       "5858     4km E of New Delhi, India  2.6  201311  \n",
       "5859   2km WSW of New Delhi, India  1.9  201311  \n",
       "5860   9km WNW of New Delhi, India  1.9  201311  \n",
       "5861   1km ESE of New Delhi, India  2.0  201311  \n",
       "5862   4km WNW of New Delhi, India  1.8  201311  \n",
       "5863     3km E of New Delhi, India  2.3  201311  \n",
       "5864   2km ENE of New Delhi, India  2.5  201311  \n",
       "5865    8km NW of New Delhi, India  2.9  201311  \n",
       "5866   5km WNW of New Delhi, India  2.1  201311  "
      ]
     },
     "execution_count": 220,
     "metadata": {},
     "output_type": "execute_result"
    }
   ],
   "source": [
    "data_lo_del_max.head(20)"
   ]
  },
  {
   "cell_type": "code",
   "execution_count": 223,
   "metadata": {},
   "outputs": [
    {
     "data": {
      "text/plain": [
       "[<matplotlib.lines.Line2D at 0x1e12e2e8508>]"
      ]
     },
     "execution_count": 223,
     "metadata": {},
     "output_type": "execute_result"
    },
    {
     "data": {
      "image/png": "[encoded data removed]",
      "text/plain": [
       "<Figure size 1152x432 with 1 Axes>"
      ]
     },
     "metadata": {
      "needs_background": "light"
     },
     "output_type": "display_data"
    }
   ],
   "source": [
    "plt.figure(figsize=(16,6))\n",
    "plt.plot(data_lo_del_max['Origin Time'].str.slice(11,19,1),data_lo_del_max.Mag)"
   ]
  },
  {
   "cell_type": "code",
   "execution_count": null,
   "metadata": {},
   "outputs": [],
   "source": []
  },
  {
   "cell_type": "code",
   "execution_count": null,
   "metadata": {},
   "outputs": [],
   "source": []
  },
  {
   "cell_type": "code",
   "execution_count": null,
   "metadata": {},
   "outputs": [],
   "source": []
  },
  {
   "cell_type": "code",
   "execution_count": null,
   "metadata": {},
   "outputs": [],
   "source": []
  },
  {
   "cell_type": "code",
   "execution_count": null,
   "metadata": {},
   "outputs": [],
   "source": []
  }
 ],
 "metadata": {
  "kernelspec": {
   "display_name": "Python 3",
   "language": "python",
   "name": "python3"
  },
  "language_info": {
   "codemirror_mode": {
    "name": "ipython",
    "version": 3
   },
   "file_extension": ".py",
   "mimetype": "text/x-python",
   "name": "python",
   "nbconvert_exporter": "python",
   "pygments_lexer": "ipython3",
   "version": "3.7.6"
  }
 },
 "nbformat": 4,
 "nbformat_minor": 4
}
